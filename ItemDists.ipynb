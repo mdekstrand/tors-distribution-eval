{
 "cells": [
  {
   "cell_type": "raw",
   "id": "f3a219da",
   "metadata": {},
   "source": [
    "---\n",
    "title: Distribution Case Study — Item Distributions\n",
    "---"
   ]
  },
  {
   "cell_type": "markdown",
   "id": "3ea6cf3f",
   "metadata": {},
   "source": [
    "This notebook demonstrates item exposure distributions.\n",
    "\n",
    "## Environment and Data\n",
    "\n",
    "### Software Environment\n",
    "\n",
    "We're going to start by importing the software packages we need. Python stdlib packages:\n"
   ]
  },
  {
   "cell_type": "code",
   "execution_count": 1,
   "id": "4dc113ce",
   "metadata": {},
   "outputs": [],
   "source": [
    "from pathlib import Path"
   ]
  },
  {
   "cell_type": "markdown",
   "id": "dccbd2da",
   "metadata": {},
   "source": [
    "PyData packages:\n"
   ]
  },
  {
   "cell_type": "code",
   "execution_count": 2,
   "id": "32a2c8ab",
   "metadata": {},
   "outputs": [],
   "source": [
    "import pandas as pd\n",
    "import numpy as np\n",
    "import seaborn as sns\n",
    "import matplotlib.pyplot as plt\n",
    "from scipy import stats"
   ]
  },
  {
   "cell_type": "markdown",
   "id": "165d63eb",
   "metadata": {},
   "source": [
    "LensKit packages:\n"
   ]
  },
  {
   "cell_type": "code",
   "execution_count": 3,
   "id": "8080ea60",
   "metadata": {},
   "outputs": [],
   "source": [
    "from lenskit import topn\n",
    "from lkdemo.metrics import discount, test_weight"
   ]
  },
  {
   "cell_type": "markdown",
   "id": "5ea9214f",
   "metadata": {},
   "source": [
    "Local code:\n"
   ]
  },
  {
   "cell_type": "code",
   "execution_count": 4,
   "id": "62e7e94a",
   "metadata": {},
   "outputs": [],
   "source": [
    "from lkdemo.plotutils import *\n",
    "from eval_tables import EvalTable\n",
    "from IPython.display import HTML"
   ]
  },
  {
   "cell_type": "markdown",
   "id": "2275317d",
   "metadata": {},
   "source": [
    "Set up progress and logging output:\n"
   ]
  },
  {
   "cell_type": "code",
   "execution_count": 5,
   "id": "3529ad0f",
   "metadata": {},
   "outputs": [
    {
     "name": "stdout",
     "output_type": "stream",
     "text": [
      "[   INFO] lenskit.util.log notebook logging configured\n"
     ]
    }
   ],
   "source": [
    "from tqdm.auto import tqdm\n",
    "import logging\n",
    "import lenskit.util\n",
    "\n",
    "_log = logging.getLogger('notebook')\n",
    "lenskit.util.log_to_notebook()\n",
    "tqdm.pandas()"
   ]
  },
  {
   "cell_type": "markdown",
   "id": "e6bc0948",
   "metadata": {},
   "source": [
    "Where do we want output?\n"
   ]
  },
  {
   "cell_type": "code",
   "execution_count": 6,
   "id": "f4494b1d",
   "metadata": {},
   "outputs": [
    {
     "name": "stdout",
     "output_type": "stream",
     "text": [
      "using figure dir figures/ItemDists\n",
      "figures/ItemDists\n"
     ]
    }
   ],
   "source": [
    "fig_dir = init_figs('ItemDists')\n",
    "print(fig_dir)"
   ]
  },
  {
   "cell_type": "markdown",
   "id": "7c8b54e5",
   "metadata": {},
   "source": [
    "### Loading Data\n",
    "\n",
    "Now let's load the MovieLens data and recommendation outputs.\n",
    "\n",
    "First the test data:\n"
   ]
  },
  {
   "cell_type": "code",
   "execution_count": 7,
   "id": "75249c29",
   "metadata": {},
   "outputs": [
    {
     "data": {
      "text/html": [
       "<div>\n",
       "<style scoped>\n",
       "    .dataframe tbody tr th:only-of-type {\n",
       "        vertical-align: middle;\n",
       "    }\n",
       "\n",
       "    .dataframe tbody tr th {\n",
       "        vertical-align: top;\n",
       "    }\n",
       "\n",
       "    .dataframe thead th {\n",
       "        text-align: right;\n",
       "    }\n",
       "</style>\n",
       "<table border=\"1\" class=\"dataframe\">\n",
       "  <thead>\n",
       "    <tr style=\"text-align: right;\">\n",
       "      <th></th>\n",
       "      <th>user</th>\n",
       "      <th>item</th>\n",
       "      <th>rating</th>\n",
       "      <th>timestamp</th>\n",
       "    </tr>\n",
       "    <tr>\n",
       "      <th>index</th>\n",
       "      <th></th>\n",
       "      <th></th>\n",
       "      <th></th>\n",
       "      <th></th>\n",
       "    </tr>\n",
       "  </thead>\n",
       "  <tbody>\n",
       "    <tr>\n",
       "      <th>453</th>\n",
       "      <td>6</td>\n",
       "      <td>1101</td>\n",
       "      <td>4.0</td>\n",
       "      <td>978236670</td>\n",
       "    </tr>\n",
       "    <tr>\n",
       "      <th>452</th>\n",
       "      <td>6</td>\n",
       "      <td>2406</td>\n",
       "      <td>5.0</td>\n",
       "      <td>978236670</td>\n",
       "    </tr>\n",
       "    <tr>\n",
       "      <th>509</th>\n",
       "      <td>6</td>\n",
       "      <td>1806</td>\n",
       "      <td>3.0</td>\n",
       "      <td>978236876</td>\n",
       "    </tr>\n",
       "    <tr>\n",
       "      <th>502</th>\n",
       "      <td>6</td>\n",
       "      <td>3699</td>\n",
       "      <td>4.0</td>\n",
       "      <td>978236567</td>\n",
       "    </tr>\n",
       "    <tr>\n",
       "      <th>480</th>\n",
       "      <td>6</td>\n",
       "      <td>1569</td>\n",
       "      <td>4.0</td>\n",
       "      <td>978238948</td>\n",
       "    </tr>\n",
       "  </tbody>\n",
       "</table>\n",
       "</div>"
      ],
      "text/plain": [
       "       user  item  rating  timestamp\n",
       "index                               \n",
       "453       6  1101     4.0  978236670\n",
       "452       6  2406     5.0  978236670\n",
       "509       6  1806     3.0  978236876\n",
       "502       6  3699     4.0  978236567\n",
       "480       6  1569     4.0  978238948"
      ]
     },
     "execution_count": 7,
     "metadata": {},
     "output_type": "execute_result"
    }
   ],
   "source": [
    "test_dir = Path('data-split/ml1m/')\n",
    "test = pd.read_parquet(test_dir / 'test-1.parquet')\n",
    "test.head()"
   ]
  },
  {
   "cell_type": "markdown",
   "id": "14d279b3",
   "metadata": {},
   "source": [
    "Now let's load the item data:\n"
   ]
  },
  {
   "cell_type": "code",
   "execution_count": 8,
   "id": "f48c658b",
   "metadata": {},
   "outputs": [
    {
     "data": {
      "text/html": [
       "<div>\n",
       "<style scoped>\n",
       "    .dataframe tbody tr th:only-of-type {\n",
       "        vertical-align: middle;\n",
       "    }\n",
       "\n",
       "    .dataframe tbody tr th {\n",
       "        vertical-align: top;\n",
       "    }\n",
       "\n",
       "    .dataframe thead th {\n",
       "        text-align: right;\n",
       "    }\n",
       "</style>\n",
       "<table border=\"1\" class=\"dataframe\">\n",
       "  <thead>\n",
       "    <tr style=\"text-align: right;\">\n",
       "      <th></th>\n",
       "      <th>title</th>\n",
       "      <th>genres</th>\n",
       "    </tr>\n",
       "    <tr>\n",
       "      <th>item</th>\n",
       "      <th></th>\n",
       "      <th></th>\n",
       "    </tr>\n",
       "  </thead>\n",
       "  <tbody>\n",
       "    <tr>\n",
       "      <th>1</th>\n",
       "      <td>Toy Story (1995)</td>\n",
       "      <td>Animation|Children's|Comedy</td>\n",
       "    </tr>\n",
       "    <tr>\n",
       "      <th>2</th>\n",
       "      <td>Jumanji (1995)</td>\n",
       "      <td>Adventure|Children's|Fantasy</td>\n",
       "    </tr>\n",
       "    <tr>\n",
       "      <th>3</th>\n",
       "      <td>Grumpier Old Men (1995)</td>\n",
       "      <td>Comedy|Romance</td>\n",
       "    </tr>\n",
       "    <tr>\n",
       "      <th>4</th>\n",
       "      <td>Waiting to Exhale (1995)</td>\n",
       "      <td>Comedy|Drama</td>\n",
       "    </tr>\n",
       "    <tr>\n",
       "      <th>5</th>\n",
       "      <td>Father of the Bride Part II (1995)</td>\n",
       "      <td>Comedy</td>\n",
       "    </tr>\n",
       "  </tbody>\n",
       "</table>\n",
       "</div>"
      ],
      "text/plain": [
       "                                   title                        genres\n",
       "item                                                                  \n",
       "1                       Toy Story (1995)   Animation|Children's|Comedy\n",
       "2                         Jumanji (1995)  Adventure|Children's|Fantasy\n",
       "3                Grumpier Old Men (1995)                Comedy|Romance\n",
       "4               Waiting to Exhale (1995)                  Comedy|Drama\n",
       "5     Father of the Bride Part II (1995)                        Comedy"
      ]
     },
     "execution_count": 8,
     "metadata": {},
     "output_type": "execute_result"
    }
   ],
   "source": [
    "ml_dir = Path('data/ml-1m/')\n",
    "movies = pd.read_table(ml_dir / 'movies.dat', sep='::', names=['item', 'title', 'genres'],\n",
    "                       engine='python', encoding='latin1')\n",
    "movies.set_index('item', inplace=True)\n",
    "movies.head()"
   ]
  },
  {
   "cell_type": "markdown",
   "id": "6ec88f96",
   "metadata": {},
   "source": [
    "Expand that movie genre column into a matrix, allocating movies across genres:\n"
   ]
  },
  {
   "cell_type": "code",
   "execution_count": 9,
   "id": "c739e1e2",
   "metadata": {},
   "outputs": [
    {
     "data": {
      "text/html": [
       "<div>\n",
       "<style scoped>\n",
       "    .dataframe tbody tr th:only-of-type {\n",
       "        vertical-align: middle;\n",
       "    }\n",
       "\n",
       "    .dataframe tbody tr th {\n",
       "        vertical-align: top;\n",
       "    }\n",
       "\n",
       "    .dataframe thead th {\n",
       "        text-align: right;\n",
       "    }\n",
       "</style>\n",
       "<table border=\"1\" class=\"dataframe\">\n",
       "  <thead>\n",
       "    <tr style=\"text-align: right;\">\n",
       "      <th>genre</th>\n",
       "      <th>Action</th>\n",
       "      <th>Adventure</th>\n",
       "      <th>Animation</th>\n",
       "      <th>Children's</th>\n",
       "      <th>Comedy</th>\n",
       "      <th>Crime</th>\n",
       "      <th>Documentary</th>\n",
       "      <th>Drama</th>\n",
       "      <th>Fantasy</th>\n",
       "      <th>Film-Noir</th>\n",
       "      <th>Horror</th>\n",
       "      <th>Musical</th>\n",
       "      <th>Mystery</th>\n",
       "      <th>Romance</th>\n",
       "      <th>Sci-Fi</th>\n",
       "      <th>Thriller</th>\n",
       "      <th>War</th>\n",
       "      <th>Western</th>\n",
       "    </tr>\n",
       "    <tr>\n",
       "      <th>item</th>\n",
       "      <th></th>\n",
       "      <th></th>\n",
       "      <th></th>\n",
       "      <th></th>\n",
       "      <th></th>\n",
       "      <th></th>\n",
       "      <th></th>\n",
       "      <th></th>\n",
       "      <th></th>\n",
       "      <th></th>\n",
       "      <th></th>\n",
       "      <th></th>\n",
       "      <th></th>\n",
       "      <th></th>\n",
       "      <th></th>\n",
       "      <th></th>\n",
       "      <th></th>\n",
       "      <th></th>\n",
       "    </tr>\n",
       "  </thead>\n",
       "  <tbody>\n",
       "    <tr>\n",
       "      <th>1</th>\n",
       "      <td>0.0</td>\n",
       "      <td>0.000000</td>\n",
       "      <td>0.333333</td>\n",
       "      <td>0.333333</td>\n",
       "      <td>0.333333</td>\n",
       "      <td>0.0</td>\n",
       "      <td>0.0</td>\n",
       "      <td>0.0</td>\n",
       "      <td>0.000000</td>\n",
       "      <td>0.0</td>\n",
       "      <td>0.0</td>\n",
       "      <td>0.0</td>\n",
       "      <td>0.0</td>\n",
       "      <td>0.0</td>\n",
       "      <td>0.0</td>\n",
       "      <td>0.0</td>\n",
       "      <td>0.0</td>\n",
       "      <td>0.0</td>\n",
       "    </tr>\n",
       "    <tr>\n",
       "      <th>2</th>\n",
       "      <td>0.0</td>\n",
       "      <td>0.333333</td>\n",
       "      <td>0.000000</td>\n",
       "      <td>0.333333</td>\n",
       "      <td>0.000000</td>\n",
       "      <td>0.0</td>\n",
       "      <td>0.0</td>\n",
       "      <td>0.0</td>\n",
       "      <td>0.333333</td>\n",
       "      <td>0.0</td>\n",
       "      <td>0.0</td>\n",
       "      <td>0.0</td>\n",
       "      <td>0.0</td>\n",
       "      <td>0.0</td>\n",
       "      <td>0.0</td>\n",
       "      <td>0.0</td>\n",
       "      <td>0.0</td>\n",
       "      <td>0.0</td>\n",
       "    </tr>\n",
       "    <tr>\n",
       "      <th>3</th>\n",
       "      <td>0.0</td>\n",
       "      <td>0.000000</td>\n",
       "      <td>0.000000</td>\n",
       "      <td>0.000000</td>\n",
       "      <td>0.500000</td>\n",
       "      <td>0.0</td>\n",
       "      <td>0.0</td>\n",
       "      <td>0.0</td>\n",
       "      <td>0.000000</td>\n",
       "      <td>0.0</td>\n",
       "      <td>0.0</td>\n",
       "      <td>0.0</td>\n",
       "      <td>0.0</td>\n",
       "      <td>0.5</td>\n",
       "      <td>0.0</td>\n",
       "      <td>0.0</td>\n",
       "      <td>0.0</td>\n",
       "      <td>0.0</td>\n",
       "    </tr>\n",
       "    <tr>\n",
       "      <th>4</th>\n",
       "      <td>0.0</td>\n",
       "      <td>0.000000</td>\n",
       "      <td>0.000000</td>\n",
       "      <td>0.000000</td>\n",
       "      <td>0.500000</td>\n",
       "      <td>0.0</td>\n",
       "      <td>0.0</td>\n",
       "      <td>0.5</td>\n",
       "      <td>0.000000</td>\n",
       "      <td>0.0</td>\n",
       "      <td>0.0</td>\n",
       "      <td>0.0</td>\n",
       "      <td>0.0</td>\n",
       "      <td>0.0</td>\n",
       "      <td>0.0</td>\n",
       "      <td>0.0</td>\n",
       "      <td>0.0</td>\n",
       "      <td>0.0</td>\n",
       "    </tr>\n",
       "    <tr>\n",
       "      <th>5</th>\n",
       "      <td>0.0</td>\n",
       "      <td>0.000000</td>\n",
       "      <td>0.000000</td>\n",
       "      <td>0.000000</td>\n",
       "      <td>1.000000</td>\n",
       "      <td>0.0</td>\n",
       "      <td>0.0</td>\n",
       "      <td>0.0</td>\n",
       "      <td>0.000000</td>\n",
       "      <td>0.0</td>\n",
       "      <td>0.0</td>\n",
       "      <td>0.0</td>\n",
       "      <td>0.0</td>\n",
       "      <td>0.0</td>\n",
       "      <td>0.0</td>\n",
       "      <td>0.0</td>\n",
       "      <td>0.0</td>\n",
       "      <td>0.0</td>\n",
       "    </tr>\n",
       "    <tr>\n",
       "      <th>...</th>\n",
       "      <td>...</td>\n",
       "      <td>...</td>\n",
       "      <td>...</td>\n",
       "      <td>...</td>\n",
       "      <td>...</td>\n",
       "      <td>...</td>\n",
       "      <td>...</td>\n",
       "      <td>...</td>\n",
       "      <td>...</td>\n",
       "      <td>...</td>\n",
       "      <td>...</td>\n",
       "      <td>...</td>\n",
       "      <td>...</td>\n",
       "      <td>...</td>\n",
       "      <td>...</td>\n",
       "      <td>...</td>\n",
       "      <td>...</td>\n",
       "      <td>...</td>\n",
       "    </tr>\n",
       "    <tr>\n",
       "      <th>3948</th>\n",
       "      <td>0.0</td>\n",
       "      <td>0.000000</td>\n",
       "      <td>0.000000</td>\n",
       "      <td>0.000000</td>\n",
       "      <td>1.000000</td>\n",
       "      <td>0.0</td>\n",
       "      <td>0.0</td>\n",
       "      <td>0.0</td>\n",
       "      <td>0.000000</td>\n",
       "      <td>0.0</td>\n",
       "      <td>0.0</td>\n",
       "      <td>0.0</td>\n",
       "      <td>0.0</td>\n",
       "      <td>0.0</td>\n",
       "      <td>0.0</td>\n",
       "      <td>0.0</td>\n",
       "      <td>0.0</td>\n",
       "      <td>0.0</td>\n",
       "    </tr>\n",
       "    <tr>\n",
       "      <th>3949</th>\n",
       "      <td>0.0</td>\n",
       "      <td>0.000000</td>\n",
       "      <td>0.000000</td>\n",
       "      <td>0.000000</td>\n",
       "      <td>0.000000</td>\n",
       "      <td>0.0</td>\n",
       "      <td>0.0</td>\n",
       "      <td>1.0</td>\n",
       "      <td>0.000000</td>\n",
       "      <td>0.0</td>\n",
       "      <td>0.0</td>\n",
       "      <td>0.0</td>\n",
       "      <td>0.0</td>\n",
       "      <td>0.0</td>\n",
       "      <td>0.0</td>\n",
       "      <td>0.0</td>\n",
       "      <td>0.0</td>\n",
       "      <td>0.0</td>\n",
       "    </tr>\n",
       "    <tr>\n",
       "      <th>3950</th>\n",
       "      <td>0.0</td>\n",
       "      <td>0.000000</td>\n",
       "      <td>0.000000</td>\n",
       "      <td>0.000000</td>\n",
       "      <td>0.000000</td>\n",
       "      <td>0.0</td>\n",
       "      <td>0.0</td>\n",
       "      <td>1.0</td>\n",
       "      <td>0.000000</td>\n",
       "      <td>0.0</td>\n",
       "      <td>0.0</td>\n",
       "      <td>0.0</td>\n",
       "      <td>0.0</td>\n",
       "      <td>0.0</td>\n",
       "      <td>0.0</td>\n",
       "      <td>0.0</td>\n",
       "      <td>0.0</td>\n",
       "      <td>0.0</td>\n",
       "    </tr>\n",
       "    <tr>\n",
       "      <th>3951</th>\n",
       "      <td>0.0</td>\n",
       "      <td>0.000000</td>\n",
       "      <td>0.000000</td>\n",
       "      <td>0.000000</td>\n",
       "      <td>0.000000</td>\n",
       "      <td>0.0</td>\n",
       "      <td>0.0</td>\n",
       "      <td>1.0</td>\n",
       "      <td>0.000000</td>\n",
       "      <td>0.0</td>\n",
       "      <td>0.0</td>\n",
       "      <td>0.0</td>\n",
       "      <td>0.0</td>\n",
       "      <td>0.0</td>\n",
       "      <td>0.0</td>\n",
       "      <td>0.0</td>\n",
       "      <td>0.0</td>\n",
       "      <td>0.0</td>\n",
       "    </tr>\n",
       "    <tr>\n",
       "      <th>3952</th>\n",
       "      <td>0.0</td>\n",
       "      <td>0.000000</td>\n",
       "      <td>0.000000</td>\n",
       "      <td>0.000000</td>\n",
       "      <td>0.000000</td>\n",
       "      <td>0.0</td>\n",
       "      <td>0.0</td>\n",
       "      <td>0.5</td>\n",
       "      <td>0.000000</td>\n",
       "      <td>0.0</td>\n",
       "      <td>0.0</td>\n",
       "      <td>0.0</td>\n",
       "      <td>0.0</td>\n",
       "      <td>0.0</td>\n",
       "      <td>0.0</td>\n",
       "      <td>0.5</td>\n",
       "      <td>0.0</td>\n",
       "      <td>0.0</td>\n",
       "    </tr>\n",
       "  </tbody>\n",
       "</table>\n",
       "<p>3883 rows × 18 columns</p>\n",
       "</div>"
      ],
      "text/plain": [
       "genre  Action  Adventure  Animation  Children's    Comedy  Crime  Documentary  \\\n",
       "item                                                                            \n",
       "1         0.0   0.000000   0.333333    0.333333  0.333333    0.0          0.0   \n",
       "2         0.0   0.333333   0.000000    0.333333  0.000000    0.0          0.0   \n",
       "3         0.0   0.000000   0.000000    0.000000  0.500000    0.0          0.0   \n",
       "4         0.0   0.000000   0.000000    0.000000  0.500000    0.0          0.0   \n",
       "5         0.0   0.000000   0.000000    0.000000  1.000000    0.0          0.0   \n",
       "...       ...        ...        ...         ...       ...    ...          ...   \n",
       "3948      0.0   0.000000   0.000000    0.000000  1.000000    0.0          0.0   \n",
       "3949      0.0   0.000000   0.000000    0.000000  0.000000    0.0          0.0   \n",
       "3950      0.0   0.000000   0.000000    0.000000  0.000000    0.0          0.0   \n",
       "3951      0.0   0.000000   0.000000    0.000000  0.000000    0.0          0.0   \n",
       "3952      0.0   0.000000   0.000000    0.000000  0.000000    0.0          0.0   \n",
       "\n",
       "genre  Drama   Fantasy  Film-Noir  Horror  Musical  Mystery  Romance  Sci-Fi  \\\n",
       "item                                                                           \n",
       "1        0.0  0.000000        0.0     0.0      0.0      0.0      0.0     0.0   \n",
       "2        0.0  0.333333        0.0     0.0      0.0      0.0      0.0     0.0   \n",
       "3        0.0  0.000000        0.0     0.0      0.0      0.0      0.5     0.0   \n",
       "4        0.5  0.000000        0.0     0.0      0.0      0.0      0.0     0.0   \n",
       "5        0.0  0.000000        0.0     0.0      0.0      0.0      0.0     0.0   \n",
       "...      ...       ...        ...     ...      ...      ...      ...     ...   \n",
       "3948     0.0  0.000000        0.0     0.0      0.0      0.0      0.0     0.0   \n",
       "3949     1.0  0.000000        0.0     0.0      0.0      0.0      0.0     0.0   \n",
       "3950     1.0  0.000000        0.0     0.0      0.0      0.0      0.0     0.0   \n",
       "3951     1.0  0.000000        0.0     0.0      0.0      0.0      0.0     0.0   \n",
       "3952     0.5  0.000000        0.0     0.0      0.0      0.0      0.0     0.0   \n",
       "\n",
       "genre  Thriller  War  Western  \n",
       "item                           \n",
       "1           0.0  0.0      0.0  \n",
       "2           0.0  0.0      0.0  \n",
       "3           0.0  0.0      0.0  \n",
       "4           0.0  0.0      0.0  \n",
       "5           0.0  0.0      0.0  \n",
       "...         ...  ...      ...  \n",
       "3948        0.0  0.0      0.0  \n",
       "3949        0.0  0.0      0.0  \n",
       "3950        0.0  0.0      0.0  \n",
       "3951        0.0  0.0      0.0  \n",
       "3952        0.5  0.0      0.0  \n",
       "\n",
       "[3883 rows x 18 columns]"
      ]
     },
     "execution_count": 9,
     "metadata": {},
     "output_type": "execute_result"
    }
   ],
   "source": [
    "genres = movies['genres'].str.split('|').explode()\n",
    "genres = genres.to_frame('genre').assign(value=1)\n",
    "genres = genres.pivot(columns='genre', values='value')\n",
    "genres.fillna(0, inplace=True)\n",
    "genres = genres.divide(genres.sum(axis=1), axis=0)\n",
    "genres"
   ]
  },
  {
   "cell_type": "markdown",
   "id": "7ed19715",
   "metadata": {},
   "source": [
    "Quick explore - what's the total allocation to each genre?\n"
   ]
  },
  {
   "cell_type": "code",
   "execution_count": 10,
   "id": "b1eb2179",
   "metadata": {},
   "outputs": [
    {
     "data": {
      "text/html": [
       "<div>\n",
       "<style scoped>\n",
       "    .dataframe tbody tr th:only-of-type {\n",
       "        vertical-align: middle;\n",
       "    }\n",
       "\n",
       "    .dataframe tbody tr th {\n",
       "        vertical-align: top;\n",
       "    }\n",
       "\n",
       "    .dataframe thead th {\n",
       "        text-align: right;\n",
       "    }\n",
       "</style>\n",
       "<table border=\"1\" class=\"dataframe\">\n",
       "  <thead>\n",
       "    <tr style=\"text-align: right;\">\n",
       "      <th></th>\n",
       "      <th>total</th>\n",
       "      <th>frac</th>\n",
       "    </tr>\n",
       "    <tr>\n",
       "      <th>genre</th>\n",
       "      <th></th>\n",
       "      <th></th>\n",
       "    </tr>\n",
       "  </thead>\n",
       "  <tbody>\n",
       "    <tr>\n",
       "      <th>Drama</th>\n",
       "      <td>1189.066667</td>\n",
       "      <td>0.306224</td>\n",
       "    </tr>\n",
       "    <tr>\n",
       "      <th>Comedy</th>\n",
       "      <td>826.766667</td>\n",
       "      <td>0.212920</td>\n",
       "    </tr>\n",
       "    <tr>\n",
       "      <th>Thriller</th>\n",
       "      <td>264.600000</td>\n",
       "      <td>0.068143</td>\n",
       "    </tr>\n",
       "    <tr>\n",
       "      <th>Horror</th>\n",
       "      <td>252.016667</td>\n",
       "      <td>0.064903</td>\n",
       "    </tr>\n",
       "    <tr>\n",
       "      <th>Action</th>\n",
       "      <td>238.766667</td>\n",
       "      <td>0.061490</td>\n",
       "    </tr>\n",
       "    <tr>\n",
       "      <th>Romance</th>\n",
       "      <td>231.333333</td>\n",
       "      <td>0.059576</td>\n",
       "    </tr>\n",
       "    <tr>\n",
       "      <th>Sci-Fi</th>\n",
       "      <td>126.116667</td>\n",
       "      <td>0.032479</td>\n",
       "    </tr>\n",
       "    <tr>\n",
       "      <th>Documentary</th>\n",
       "      <td>121.500000</td>\n",
       "      <td>0.031290</td>\n",
       "    </tr>\n",
       "    <tr>\n",
       "      <th>Adventure</th>\n",
       "      <td>116.083333</td>\n",
       "      <td>0.029895</td>\n",
       "    </tr>\n",
       "    <tr>\n",
       "      <th>Children's</th>\n",
       "      <td>105.816667</td>\n",
       "      <td>0.027251</td>\n",
       "    </tr>\n",
       "    <tr>\n",
       "      <th>Crime</th>\n",
       "      <td>101.950000</td>\n",
       "      <td>0.026255</td>\n",
       "    </tr>\n",
       "    <tr>\n",
       "      <th>War</th>\n",
       "      <td>67.433333</td>\n",
       "      <td>0.017366</td>\n",
       "    </tr>\n",
       "    <tr>\n",
       "      <th>Musical</th>\n",
       "      <td>55.850000</td>\n",
       "      <td>0.014383</td>\n",
       "    </tr>\n",
       "    <tr>\n",
       "      <th>Mystery</th>\n",
       "      <td>49.116667</td>\n",
       "      <td>0.012649</td>\n",
       "    </tr>\n",
       "    <tr>\n",
       "      <th>Western</th>\n",
       "      <td>47.500000</td>\n",
       "      <td>0.012233</td>\n",
       "    </tr>\n",
       "    <tr>\n",
       "      <th>Animation</th>\n",
       "      <td>42.116667</td>\n",
       "      <td>0.010846</td>\n",
       "    </tr>\n",
       "    <tr>\n",
       "      <th>Film-Noir</th>\n",
       "      <td>23.583333</td>\n",
       "      <td>0.006073</td>\n",
       "    </tr>\n",
       "    <tr>\n",
       "      <th>Fantasy</th>\n",
       "      <td>23.383333</td>\n",
       "      <td>0.006022</td>\n",
       "    </tr>\n",
       "  </tbody>\n",
       "</table>\n",
       "</div>"
      ],
      "text/plain": [
       "                   total      frac\n",
       "genre                             \n",
       "Drama        1189.066667  0.306224\n",
       "Comedy        826.766667  0.212920\n",
       "Thriller      264.600000  0.068143\n",
       "Horror        252.016667  0.064903\n",
       "Action        238.766667  0.061490\n",
       "Romance       231.333333  0.059576\n",
       "Sci-Fi        126.116667  0.032479\n",
       "Documentary   121.500000  0.031290\n",
       "Adventure     116.083333  0.029895\n",
       "Children's    105.816667  0.027251\n",
       "Crime         101.950000  0.026255\n",
       "War            67.433333  0.017366\n",
       "Musical        55.850000  0.014383\n",
       "Mystery        49.116667  0.012649\n",
       "Western        47.500000  0.012233\n",
       "Animation      42.116667  0.010846\n",
       "Film-Noir      23.583333  0.006073\n",
       "Fantasy        23.383333  0.006022"
      ]
     },
     "execution_count": 10,
     "metadata": {},
     "output_type": "execute_result"
    }
   ],
   "source": [
    "genre_tot = genres.sum().to_frame('total')\n",
    "genre_tot['frac'] = genre_tot['total'] / genre_tot['total'].sum()\n",
    "genre_tot.sort_values('total', ascending=False)"
   ]
  },
  {
   "cell_type": "markdown",
   "id": "a61882b0",
   "metadata": {},
   "source": [
    "And the recommendations:\n"
   ]
  },
  {
   "cell_type": "code",
   "execution_count": 11,
   "id": "294307a4",
   "metadata": {},
   "outputs": [
    {
     "data": {
      "text/html": [
       "<div>\n",
       "<style scoped>\n",
       "    .dataframe tbody tr th:only-of-type {\n",
       "        vertical-align: middle;\n",
       "    }\n",
       "\n",
       "    .dataframe tbody tr th {\n",
       "        vertical-align: top;\n",
       "    }\n",
       "\n",
       "    .dataframe thead th {\n",
       "        text-align: right;\n",
       "    }\n",
       "</style>\n",
       "<table border=\"1\" class=\"dataframe\">\n",
       "  <thead>\n",
       "    <tr style=\"text-align: right;\">\n",
       "      <th></th>\n",
       "      <th>algo</th>\n",
       "      <th>item</th>\n",
       "      <th>score</th>\n",
       "      <th>user</th>\n",
       "      <th>rank</th>\n",
       "    </tr>\n",
       "  </thead>\n",
       "  <tbody>\n",
       "    <tr>\n",
       "      <th>0</th>\n",
       "      <td>IKNN</td>\n",
       "      <td>1265</td>\n",
       "      <td>9.752318</td>\n",
       "      <td>6</td>\n",
       "      <td>1</td>\n",
       "    </tr>\n",
       "    <tr>\n",
       "      <th>1</th>\n",
       "      <td>IKNN</td>\n",
       "      <td>1196</td>\n",
       "      <td>9.746611</td>\n",
       "      <td>6</td>\n",
       "      <td>2</td>\n",
       "    </tr>\n",
       "    <tr>\n",
       "      <th>2</th>\n",
       "      <td>IKNN</td>\n",
       "      <td>1270</td>\n",
       "      <td>9.562931</td>\n",
       "      <td>6</td>\n",
       "      <td>3</td>\n",
       "    </tr>\n",
       "    <tr>\n",
       "      <th>3</th>\n",
       "      <td>IKNN</td>\n",
       "      <td>356</td>\n",
       "      <td>9.534776</td>\n",
       "      <td>6</td>\n",
       "      <td>4</td>\n",
       "    </tr>\n",
       "    <tr>\n",
       "      <th>4</th>\n",
       "      <td>IKNN</td>\n",
       "      <td>919</td>\n",
       "      <td>9.496835</td>\n",
       "      <td>6</td>\n",
       "      <td>5</td>\n",
       "    </tr>\n",
       "  </tbody>\n",
       "</table>\n",
       "</div>"
      ],
      "text/plain": [
       "   algo  item     score  user  rank\n",
       "0  IKNN  1265  9.752318     6     1\n",
       "1  IKNN  1196  9.746611     6     2\n",
       "2  IKNN  1270  9.562931     6     3\n",
       "3  IKNN   356  9.534776     6     4\n",
       "4  IKNN   919  9.496835     6     5"
      ]
     },
     "execution_count": 11,
     "metadata": {},
     "output_type": "execute_result"
    }
   ],
   "source": [
    "run_dir = Path('runs/')\n",
    "recs = {}\n",
    "for rf in run_dir.glob('ml1m-*/recs-1.parquet'):\n",
    "    rdname = rf.parent.name\n",
    "    algo = rdname[len('ml1m-'):]\n",
    "    recs[algo] = pd.read_parquet(rf)\n",
    "recs = pd.concat(recs, names=['algo'])\n",
    "recs = recs.reset_index('algo').reset_index(drop=True)\n",
    "recs.algo = recs.algo.astype('category').cat.rename_categories({'III': 'IKNN'})\n",
    "recs.head()"
   ]
  },
  {
   "cell_type": "markdown",
   "id": "df212174",
   "metadata": {},
   "source": [
    "### Computing Exposure\n",
    "\n",
    "Now that the recommendations are computed, let's compute some per-item exposure.  Since we use the geometric browsing model,\n",
    "we can get the per-item exposure simply by transforming the `rank` column:\n"
   ]
  },
  {
   "cell_type": "code",
   "execution_count": 12,
   "id": "6db4d161",
   "metadata": {},
   "outputs": [],
   "source": [
    "recs['weight'] = discount(recs['rank'])"
   ]
  },
  {
   "cell_type": "markdown",
   "id": "838ab9d9",
   "metadata": {},
   "source": [
    "We can then compute the *total* exposure for each item:\n"
   ]
  },
  {
   "cell_type": "code",
   "execution_count": 13,
   "id": "69ca45e9",
   "metadata": {},
   "outputs": [
    {
     "data": {
      "text/plain": [
       "algo  item\n",
       "IALS  1       0.012880\n",
       "      2       0.003549\n",
       "      3       0.008433\n",
       "      4       0.000602\n",
       "      5       0.000820\n",
       "Name: weight, dtype: float64"
      ]
     },
     "execution_count": 13,
     "metadata": {},
     "output_type": "execute_result"
    }
   ],
   "source": [
    "item_exp = recs.groupby(['algo', 'item'])['weight'].mean()\n",
    "item_exp.head()"
   ]
  },
  {
   "cell_type": "markdown",
   "id": "e2294b0b",
   "metadata": {},
   "source": [
    "Now make it wide, fill in un-recommended items with 0 exposure, and normalize so exposure sums to 1:\n"
   ]
  },
  {
   "cell_type": "code",
   "execution_count": 14,
   "id": "fdaf3a6c",
   "metadata": {},
   "outputs": [
    {
     "data": {
      "text/html": [
       "<div>\n",
       "<style scoped>\n",
       "    .dataframe tbody tr th:only-of-type {\n",
       "        vertical-align: middle;\n",
       "    }\n",
       "\n",
       "    .dataframe tbody tr th {\n",
       "        vertical-align: top;\n",
       "    }\n",
       "\n",
       "    .dataframe thead th {\n",
       "        text-align: right;\n",
       "    }\n",
       "</style>\n",
       "<table border=\"1\" class=\"dataframe\">\n",
       "  <thead>\n",
       "    <tr style=\"text-align: right;\">\n",
       "      <th>algo</th>\n",
       "      <th>IALS</th>\n",
       "      <th>IKNN</th>\n",
       "      <th>Pop</th>\n",
       "    </tr>\n",
       "    <tr>\n",
       "      <th>item</th>\n",
       "      <th></th>\n",
       "      <th></th>\n",
       "      <th></th>\n",
       "    </tr>\n",
       "  </thead>\n",
       "  <tbody>\n",
       "    <tr>\n",
       "      <th>1</th>\n",
       "      <td>1.601951e-03</td>\n",
       "      <td>4.309299e-03</td>\n",
       "      <td>3.979554e-03</td>\n",
       "    </tr>\n",
       "    <tr>\n",
       "      <th>2</th>\n",
       "      <td>4.413538e-04</td>\n",
       "      <td>3.426309e-09</td>\n",
       "      <td>7.354260e-11</td>\n",
       "    </tr>\n",
       "    <tr>\n",
       "      <th>3</th>\n",
       "      <td>1.048822e-03</td>\n",
       "      <td>1.944086e-28</td>\n",
       "      <td>3.547524e-18</td>\n",
       "    </tr>\n",
       "    <tr>\n",
       "      <th>4</th>\n",
       "      <td>7.486698e-05</td>\n",
       "      <td>1.609724e-53</td>\n",
       "      <td>5.771831e-44</td>\n",
       "    </tr>\n",
       "    <tr>\n",
       "      <th>5</th>\n",
       "      <td>1.019723e-04</td>\n",
       "      <td>5.931285e-20</td>\n",
       "      <td>3.027840e-23</td>\n",
       "    </tr>\n",
       "    <tr>\n",
       "      <th>...</th>\n",
       "      <td>...</td>\n",
       "      <td>...</td>\n",
       "      <td>...</td>\n",
       "    </tr>\n",
       "    <tr>\n",
       "      <th>3948</th>\n",
       "      <td>1.315921e-03</td>\n",
       "      <td>1.118933e-04</td>\n",
       "      <td>7.673705e-08</td>\n",
       "    </tr>\n",
       "    <tr>\n",
       "      <th>3949</th>\n",
       "      <td>2.156829e-04</td>\n",
       "      <td>6.575742e-05</td>\n",
       "      <td>5.963106e-32</td>\n",
       "    </tr>\n",
       "    <tr>\n",
       "      <th>3950</th>\n",
       "      <td>2.221415e-08</td>\n",
       "      <td>4.373085e-40</td>\n",
       "      <td>0.000000e+00</td>\n",
       "    </tr>\n",
       "    <tr>\n",
       "      <th>3951</th>\n",
       "      <td>4.737350e-07</td>\n",
       "      <td>2.664106e-96</td>\n",
       "      <td>0.000000e+00</td>\n",
       "    </tr>\n",
       "    <tr>\n",
       "      <th>3952</th>\n",
       "      <td>4.222336e-04</td>\n",
       "      <td>6.313090e-12</td>\n",
       "      <td>1.550802e-16</td>\n",
       "    </tr>\n",
       "  </tbody>\n",
       "</table>\n",
       "<p>3883 rows × 3 columns</p>\n",
       "</div>"
      ],
      "text/plain": [
       "algo          IALS          IKNN           Pop\n",
       "item                                          \n",
       "1     1.601951e-03  4.309299e-03  3.979554e-03\n",
       "2     4.413538e-04  3.426309e-09  7.354260e-11\n",
       "3     1.048822e-03  1.944086e-28  3.547524e-18\n",
       "4     7.486698e-05  1.609724e-53  5.771831e-44\n",
       "5     1.019723e-04  5.931285e-20  3.027840e-23\n",
       "...            ...           ...           ...\n",
       "3948  1.315921e-03  1.118933e-04  7.673705e-08\n",
       "3949  2.156829e-04  6.575742e-05  5.963106e-32\n",
       "3950  2.221415e-08  4.373085e-40  0.000000e+00\n",
       "3951  4.737350e-07  2.664106e-96  0.000000e+00\n",
       "3952  4.222336e-04  6.313090e-12  1.550802e-16\n",
       "\n",
       "[3883 rows x 3 columns]"
      ]
     },
     "execution_count": 14,
     "metadata": {},
     "output_type": "execute_result"
    }
   ],
   "source": [
    "exp_wide = item_exp.unstack('algo').reindex(movies.index).fillna(0)\n",
    "exp_wide /= exp_wide.sum()\n",
    "exp_wide"
   ]
  },
  {
   "cell_type": "code",
   "execution_count": 15,
   "id": "7f94990e",
   "metadata": {},
   "outputs": [],
   "source": [
    "exp_wide = exp_wide[['Pop', 'IKNN', 'IALS']]"
   ]
  },
  {
   "cell_type": "markdown",
   "id": "c97322ee",
   "metadata": {},
   "source": [
    "## Distribution of Exposure\n",
    "\n",
    "Let's now look at the distribution of expoure over items!\n"
   ]
  },
  {
   "cell_type": "code",
   "execution_count": 16,
   "id": "ae8db1c0",
   "metadata": {},
   "outputs": [
    {
     "data": {
      "text/html": [
       "<div>\n",
       "<style scoped>\n",
       "    .dataframe tbody tr th:only-of-type {\n",
       "        vertical-align: middle;\n",
       "    }\n",
       "\n",
       "    .dataframe tbody tr th {\n",
       "        vertical-align: top;\n",
       "    }\n",
       "\n",
       "    .dataframe thead th {\n",
       "        text-align: right;\n",
       "    }\n",
       "</style>\n",
       "<table border=\"1\" class=\"dataframe\">\n",
       "  <thead>\n",
       "    <tr style=\"text-align: right;\">\n",
       "      <th>algo</th>\n",
       "      <th>Pop</th>\n",
       "      <th>IKNN</th>\n",
       "      <th>IALS</th>\n",
       "    </tr>\n",
       "  </thead>\n",
       "  <tbody>\n",
       "    <tr>\n",
       "      <th>count</th>\n",
       "      <td>3.883000e+03</td>\n",
       "      <td>3.883000e+03</td>\n",
       "      <td>3.883000e+03</td>\n",
       "    </tr>\n",
       "    <tr>\n",
       "      <th>mean</th>\n",
       "      <td>2.575328e-04</td>\n",
       "      <td>2.575328e-04</td>\n",
       "      <td>2.575328e-04</td>\n",
       "    </tr>\n",
       "    <tr>\n",
       "      <th>std</th>\n",
       "      <td>3.845030e-03</td>\n",
       "      <td>2.752246e-03</td>\n",
       "      <td>4.781942e-04</td>\n",
       "    </tr>\n",
       "    <tr>\n",
       "      <th>min</th>\n",
       "      <td>0.000000e+00</td>\n",
       "      <td>0.000000e+00</td>\n",
       "      <td>0.000000e+00</td>\n",
       "    </tr>\n",
       "    <tr>\n",
       "      <th>25%</th>\n",
       "      <td>0.000000e+00</td>\n",
       "      <td>0.000000e+00</td>\n",
       "      <td>4.298164e-21</td>\n",
       "    </tr>\n",
       "    <tr>\n",
       "      <th>50%</th>\n",
       "      <td>8.131271e-72</td>\n",
       "      <td>6.426970e-62</td>\n",
       "      <td>3.195034e-05</td>\n",
       "    </tr>\n",
       "    <tr>\n",
       "      <th>75%</th>\n",
       "      <td>8.943876e-27</td>\n",
       "      <td>4.093107e-17</td>\n",
       "      <td>3.713158e-04</td>\n",
       "    </tr>\n",
       "    <tr>\n",
       "      <th>max</th>\n",
       "      <td>1.162998e-01</td>\n",
       "      <td>8.748843e-02</td>\n",
       "      <td>1.137109e-02</td>\n",
       "    </tr>\n",
       "  </tbody>\n",
       "</table>\n",
       "</div>"
      ],
      "text/plain": [
       "algo            Pop          IKNN          IALS\n",
       "count  3.883000e+03  3.883000e+03  3.883000e+03\n",
       "mean   2.575328e-04  2.575328e-04  2.575328e-04\n",
       "std    3.845030e-03  2.752246e-03  4.781942e-04\n",
       "min    0.000000e+00  0.000000e+00  0.000000e+00\n",
       "25%    0.000000e+00  0.000000e+00  4.298164e-21\n",
       "50%    8.131271e-72  6.426970e-62  3.195034e-05\n",
       "75%    8.943876e-27  4.093107e-17  3.713158e-04\n",
       "max    1.162998e-01  8.748843e-02  1.137109e-02"
      ]
     },
     "execution_count": 16,
     "metadata": {},
     "output_type": "execute_result"
    }
   ],
   "source": [
    "exp_tall = exp_wide.melt(value_name='exposure')\n",
    "exp_wide.describe()"
   ]
  },
  {
   "cell_type": "code",
   "execution_count": 17,
   "id": "e7ed3cfe",
   "metadata": {},
   "outputs": [
    {
     "name": "stdout",
     "output_type": "stream",
     "text": [
      "[   INFO] matplotlib.font_manager Fontsize 0.00 < 1.0 pt not allowed by FreeType. Setting fontsize = 1 pt\n"
     ]
    },
    {
     "name": "stderr",
     "output_type": "stream",
     "text": [
      "/home/MICHAELEKSTRAND/mambaforge/envs/tors-dists/lib/python3.10/site-packages/plotnine/ggplot.py:587: PlotnineWarning: Saving 4.5 x 3 in image.\n",
      "/home/MICHAELEKSTRAND/mambaforge/envs/tors-dists/lib/python3.10/site-packages/plotnine/ggplot.py:588: PlotnineWarning: Filename: figures/ItemDists/item-exp-cdf.png\n",
      "/home/MICHAELEKSTRAND/mambaforge/envs/tors-dists/lib/python3.10/site-packages/pandas/core/arraylike.py:402: RuntimeWarning: divide by zero encountered in log10\n",
      "/home/MICHAELEKSTRAND/mambaforge/envs/tors-dists/lib/python3.10/site-packages/plotnine/layer.py:284: PlotnineWarning: stat_ecdf : Removed 3260 rows containing non-finite values.\n"
     ]
    },
    {
     "name": "stdout",
     "output_type": "stream",
     "text": [
      "[   INFO] matplotlib.font_manager Fontsize 0.00 < 1.0 pt not allowed by FreeType. Setting fontsize = 1 pt\n"
     ]
    },
    {
     "name": "stderr",
     "output_type": "stream",
     "text": [
      "/home/MICHAELEKSTRAND/mambaforge/envs/tors-dists/lib/python3.10/site-packages/pandas/core/arraylike.py:402: RuntimeWarning: divide by zero encountered in log10\n",
      "/home/MICHAELEKSTRAND/mambaforge/envs/tors-dists/lib/python3.10/site-packages/plotnine/layer.py:284: PlotnineWarning: stat_ecdf : Removed 3260 rows containing non-finite values.\n"
     ]
    },
    {
     "data": {
      "image/png": "[encoded data removed]",
      "text/plain": [
       "<Figure size 640x480 with 1 Axes>"
      ]
     },
     "metadata": {
      "image/png": {
       "height": 480,
       "width": 640
      },
      "needs_background": "light"
     },
     "output_type": "display_data"
    },
    {
     "data": {
      "text/plain": [
       "<Figure Size: (640 x 480)>"
      ]
     },
     "execution_count": 17,
     "metadata": {},
     "output_type": "execute_result"
    }
   ],
   "source": [
    "make_plot(\n",
    "    exp_tall,\n",
    "    pn.aes(x='exposure', color='algo', linetype='algo'),\n",
    "    pn.stat_ecdf(),\n",
    "    pn.scale_x_log10(),\n",
    "    pn.scale_color_brewer('qual', 'Dark2'),\n",
    "    pn.xlab('Item Expected Exposure'),\n",
    "    pn.ylab('CDF'),\n",
    "    legend_direction='horizontal',\n",
    "    legend_position='top',\n",
    "    legend_title=pn.element_blank(),\n",
    "    file='item-exp-cdf.png',\n",
    "    width=4.5,\n",
    "    height=3,\n",
    ")"
   ]
  },
  {
   "cell_type": "code",
   "execution_count": 18,
   "id": "47af2740",
   "metadata": {},
   "outputs": [
    {
     "name": "stdout",
     "output_type": "stream",
     "text": [
      "[   INFO] notebook plotting Pop\n"
     ]
    },
    {
     "name": "stdout",
     "output_type": "stream",
     "text": [
      "[   INFO] notebook plotting IKNN\n"
     ]
    },
    {
     "name": "stdout",
     "output_type": "stream",
     "text": [
      "[   INFO] notebook plotting IALS\n"
     ]
    },
    {
     "data": {
      "text/plain": [
       "<matplotlib.legend.Legend at 0x7ff3c026ddb0>"
      ]
     },
     "execution_count": 18,
     "metadata": {},
     "output_type": "execute_result"
    },
    {
     "data": {
      "image/png": "[encoded data removed]",
      "text/plain": [
       "<Figure size 672x480 with 1 Axes>"
      ]
     },
     "metadata": {
      "image/png": {
       "height": 480,
       "width": 672
      }
     },
     "output_type": "display_data"
    }
   ],
   "source": [
    "for name in exp_wide.columns:\n",
    "    _log.info('plotting %s', name)\n",
    "    sns.kdeplot(np.maximum(exp_wide[name], 1.0e-100), label=name, log_scale=True)\n",
    "plt.legend()"
   ]
  },
  {
   "cell_type": "markdown",
   "id": "cf887089",
   "metadata": {},
   "source": [
    "We can conclude from this that IALS is providing more exposure to more items than both the popular and item-item algorithms.\n",
    "\n",
    "Let's look at Lorenz curves for an alternate view.\n"
   ]
  },
  {
   "cell_type": "code",
   "execution_count": 19,
   "id": "21d0c102",
   "metadata": {},
   "outputs": [
    {
     "data": {
      "text/html": [
       "<div>\n",
       "<style scoped>\n",
       "    .dataframe tbody tr th:only-of-type {\n",
       "        vertical-align: middle;\n",
       "    }\n",
       "\n",
       "    .dataframe tbody tr th {\n",
       "        vertical-align: top;\n",
       "    }\n",
       "\n",
       "    .dataframe thead th {\n",
       "        text-align: right;\n",
       "    }\n",
       "</style>\n",
       "<table border=\"1\" class=\"dataframe\">\n",
       "  <thead>\n",
       "    <tr style=\"text-align: right;\">\n",
       "      <th></th>\n",
       "      <th>algo</th>\n",
       "      <th>exposure</th>\n",
       "      <th>rank</th>\n",
       "      <th>frank</th>\n",
       "      <th>csum</th>\n",
       "    </tr>\n",
       "  </thead>\n",
       "  <tbody>\n",
       "    <tr>\n",
       "      <th>7816</th>\n",
       "      <td>IALS</td>\n",
       "      <td>0.000000</td>\n",
       "      <td>1.0</td>\n",
       "      <td>0.000258</td>\n",
       "      <td>0.000000</td>\n",
       "    </tr>\n",
       "    <tr>\n",
       "      <th>7862</th>\n",
       "      <td>IALS</td>\n",
       "      <td>0.000000</td>\n",
       "      <td>2.0</td>\n",
       "      <td>0.000515</td>\n",
       "      <td>0.000000</td>\n",
       "    </tr>\n",
       "    <tr>\n",
       "      <th>7873</th>\n",
       "      <td>IALS</td>\n",
       "      <td>0.000000</td>\n",
       "      <td>3.0</td>\n",
       "      <td>0.000773</td>\n",
       "      <td>0.000000</td>\n",
       "    </tr>\n",
       "    <tr>\n",
       "      <th>7879</th>\n",
       "      <td>IALS</td>\n",
       "      <td>0.000000</td>\n",
       "      <td>4.0</td>\n",
       "      <td>0.001030</td>\n",
       "      <td>0.000000</td>\n",
       "    </tr>\n",
       "    <tr>\n",
       "      <th>7884</th>\n",
       "      <td>IALS</td>\n",
       "      <td>0.000000</td>\n",
       "      <td>5.0</td>\n",
       "      <td>0.001288</td>\n",
       "      <td>0.000000</td>\n",
       "    </tr>\n",
       "    <tr>\n",
       "      <th>...</th>\n",
       "      <td>...</td>\n",
       "      <td>...</td>\n",
       "      <td>...</td>\n",
       "      <td>...</td>\n",
       "      <td>...</td>\n",
       "    </tr>\n",
       "    <tr>\n",
       "      <th>476</th>\n",
       "      <td>Pop</td>\n",
       "      <td>0.068049</td>\n",
       "      <td>3879.0</td>\n",
       "      <td>0.998970</td>\n",
       "      <td>0.615912</td>\n",
       "    </tr>\n",
       "    <tr>\n",
       "      <th>1192</th>\n",
       "      <td>Pop</td>\n",
       "      <td>0.075844</td>\n",
       "      <td>3880.0</td>\n",
       "      <td>0.999227</td>\n",
       "      <td>0.691756</td>\n",
       "    </tr>\n",
       "    <tr>\n",
       "      <th>1178</th>\n",
       "      <td>Pop</td>\n",
       "      <td>0.087862</td>\n",
       "      <td>3881.0</td>\n",
       "      <td>0.999485</td>\n",
       "      <td>0.779618</td>\n",
       "    </tr>\n",
       "    <tr>\n",
       "      <th>257</th>\n",
       "      <td>Pop</td>\n",
       "      <td>0.104082</td>\n",
       "      <td>3882.0</td>\n",
       "      <td>0.999742</td>\n",
       "      <td>0.883700</td>\n",
       "    </tr>\n",
       "    <tr>\n",
       "      <th>2789</th>\n",
       "      <td>Pop</td>\n",
       "      <td>0.116300</td>\n",
       "      <td>3883.0</td>\n",
       "      <td>1.000000</td>\n",
       "      <td>1.000000</td>\n",
       "    </tr>\n",
       "  </tbody>\n",
       "</table>\n",
       "<p>11649 rows × 5 columns</p>\n",
       "</div>"
      ],
      "text/plain": [
       "      algo  exposure    rank     frank      csum\n",
       "7816  IALS  0.000000     1.0  0.000258  0.000000\n",
       "7862  IALS  0.000000     2.0  0.000515  0.000000\n",
       "7873  IALS  0.000000     3.0  0.000773  0.000000\n",
       "7879  IALS  0.000000     4.0  0.001030  0.000000\n",
       "7884  IALS  0.000000     5.0  0.001288  0.000000\n",
       "...    ...       ...     ...       ...       ...\n",
       "476    Pop  0.068049  3879.0  0.998970  0.615912\n",
       "1192   Pop  0.075844  3880.0  0.999227  0.691756\n",
       "1178   Pop  0.087862  3881.0  0.999485  0.779618\n",
       "257    Pop  0.104082  3882.0  0.999742  0.883700\n",
       "2789   Pop  0.116300  3883.0  1.000000  1.000000\n",
       "\n",
       "[11649 rows x 5 columns]"
      ]
     },
     "execution_count": 19,
     "metadata": {},
     "output_type": "execute_result"
    }
   ],
   "source": [
    "exp_tall['rank'] = exp_tall.groupby('algo')['exposure'].rank(method='first')\n",
    "exp_tall['frank'] = exp_tall['rank'] / exp_tall['rank'].max()\n",
    "exp_tall = exp_tall.sort_values(['algo', 'rank'])\n",
    "exp_tall['csum'] = exp_tall.groupby('algo')['exposure'].cumsum()\n",
    "exp_tall"
   ]
  },
  {
   "cell_type": "markdown",
   "id": "ede779fa",
   "metadata": {},
   "source": [
    "Compute some Gini coefficients:\n"
   ]
  },
  {
   "cell_type": "code",
   "execution_count": 20,
   "id": "7a094b84",
   "metadata": {},
   "outputs": [],
   "source": [
    "def exp_gini(df):\n",
    "    ranks = df['rank'].max() + 1 - df['rank']\n",
    "    terms = ranks * df['exposure']\n",
    "    mean = df['exposure'].mean()\n",
    "    N = len(df)\n",
    "    G = np.sum(terms)\n",
    "    G *= -2 / (N * (N - 1) * mean)\n",
    "    G += (N + 1) / (N - 1)\n",
    "    return G"
   ]
  },
  {
   "cell_type": "code",
   "execution_count": 21,
   "id": "cb3f9f2b",
   "metadata": {},
   "outputs": [
    {
     "data": {
      "text/plain": [
       "algo\n",
       "IALS    0.732345\n",
       "IKNN    0.988025\n",
       "Pop     0.995073\n",
       "dtype: float64"
      ]
     },
     "execution_count": 21,
     "metadata": {},
     "output_type": "execute_result"
    }
   ],
   "source": [
    "algo_gini = exp_tall.groupby('algo').apply(exp_gini)\n",
    "algo_gini"
   ]
  },
  {
   "cell_type": "markdown",
   "id": "14443478",
   "metadata": {},
   "source": [
    "And plot Lorenz curves:\n"
   ]
  },
  {
   "cell_type": "code",
   "execution_count": 22,
   "id": "5575da13",
   "metadata": {},
   "outputs": [
    {
     "name": "stdout",
     "output_type": "stream",
     "text": [
      "[   INFO] matplotlib.font_manager Fontsize 0.00 < 1.0 pt not allowed by FreeType. Setting fontsize = 1 pt\n"
     ]
    },
    {
     "name": "stderr",
     "output_type": "stream",
     "text": [
      "/home/MICHAELEKSTRAND/mambaforge/envs/tors-dists/lib/python3.10/site-packages/plotnine/ggplot.py:587: PlotnineWarning: Saving 4.5 x 2 in image.\n",
      "/home/MICHAELEKSTRAND/mambaforge/envs/tors-dists/lib/python3.10/site-packages/plotnine/ggplot.py:588: PlotnineWarning: Filename: figures/ItemDists/item-exp-lorenz.png\n"
     ]
    },
    {
     "name": "stdout",
     "output_type": "stream",
     "text": [
      "[   INFO] matplotlib.font_manager Fontsize 0.00 < 1.0 pt not allowed by FreeType. Setting fontsize = 1 pt\n"
     ]
    },
    {
     "data": {
      "image/png": "[encoded data removed]",
      "text/plain": [
       "<Figure size 640x480 with 1 Axes>"
      ]
     },
     "metadata": {
      "image/png": {
       "height": 480,
       "width": 640
      },
      "needs_background": "light"
     },
     "output_type": "display_data"
    },
    {
     "data": {
      "text/plain": [
       "<Figure Size: (640 x 480)>"
      ]
     },
     "execution_count": 22,
     "metadata": {},
     "output_type": "execute_result"
    }
   ],
   "source": [
    "make_plot(\n",
    "    exp_tall,\n",
    "    pn.aes(x='frank', y='csum', color='algo', linetype='algo'),\n",
    "    pn.geom_line(),\n",
    "    pn.geom_abline(pn.aes(intercept=0, slope=1)),\n",
    "    pn.scale_color_brewer('qual', 'Dark2'),\n",
    "    pn.xlab('Item Rank'),\n",
    "    pn.ylab('Cum. Frac. Exposure'),\n",
    "    legend_direction='horizontal',\n",
    "    legend_position='top',\n",
    "    legend_title=pn.element_blank(),\n",
    "    file='item-exp-lorenz.png',\n",
    "    width=4.5,\n",
    "    height=2,\n",
    ")"
   ]
  },
  {
   "cell_type": "markdown",
   "id": "9e08b8d7",
   "metadata": {},
   "source": [
    "## Group Exposure\n",
    "\n",
    "For demonstration purposes, we're going to look at the distribution of exposure over genres.\n"
   ]
  },
  {
   "cell_type": "code",
   "execution_count": 23,
   "id": "41d517e3",
   "metadata": {},
   "outputs": [
    {
     "data": {
      "text/html": [
       "<div>\n",
       "<style scoped>\n",
       "    .dataframe tbody tr th:only-of-type {\n",
       "        vertical-align: middle;\n",
       "    }\n",
       "\n",
       "    .dataframe tbody tr th {\n",
       "        vertical-align: top;\n",
       "    }\n",
       "\n",
       "    .dataframe thead th {\n",
       "        text-align: right;\n",
       "    }\n",
       "</style>\n",
       "<table border=\"1\" class=\"dataframe\">\n",
       "  <thead>\n",
       "    <tr style=\"text-align: right;\">\n",
       "      <th>algo</th>\n",
       "      <th>Pop</th>\n",
       "      <th>IKNN</th>\n",
       "      <th>IALS</th>\n",
       "    </tr>\n",
       "    <tr>\n",
       "      <th>genre</th>\n",
       "      <th></th>\n",
       "      <th></th>\n",
       "      <th></th>\n",
       "    </tr>\n",
       "  </thead>\n",
       "  <tbody>\n",
       "    <tr>\n",
       "      <th>Action</th>\n",
       "      <td>1.756758e-01</td>\n",
       "      <td>0.216734</td>\n",
       "      <td>0.089754</td>\n",
       "    </tr>\n",
       "    <tr>\n",
       "      <th>Adventure</th>\n",
       "      <td>1.106168e-01</td>\n",
       "      <td>0.110424</td>\n",
       "      <td>0.037990</td>\n",
       "    </tr>\n",
       "    <tr>\n",
       "      <th>Animation</th>\n",
       "      <td>3.276874e-03</td>\n",
       "      <td>0.002879</td>\n",
       "      <td>0.017121</td>\n",
       "    </tr>\n",
       "    <tr>\n",
       "      <th>Children's</th>\n",
       "      <td>6.050285e-03</td>\n",
       "      <td>0.005511</td>\n",
       "      <td>0.025301</td>\n",
       "    </tr>\n",
       "    <tr>\n",
       "      <th>Comedy</th>\n",
       "      <td>1.297002e-01</td>\n",
       "      <td>0.091708</td>\n",
       "      <td>0.207355</td>\n",
       "    </tr>\n",
       "    <tr>\n",
       "      <th>Crime</th>\n",
       "      <td>1.814326e-02</td>\n",
       "      <td>0.038697</td>\n",
       "      <td>0.028922</td>\n",
       "    </tr>\n",
       "    <tr>\n",
       "      <th>Documentary</th>\n",
       "      <td>1.747444e-08</td>\n",
       "      <td>0.000082</td>\n",
       "      <td>0.009275</td>\n",
       "    </tr>\n",
       "    <tr>\n",
       "      <th>Drama</th>\n",
       "      <td>1.613940e-01</td>\n",
       "      <td>0.108682</td>\n",
       "      <td>0.238997</td>\n",
       "    </tr>\n",
       "    <tr>\n",
       "      <th>Fantasy</th>\n",
       "      <td>3.084722e-02</td>\n",
       "      <td>0.023600</td>\n",
       "      <td>0.010273</td>\n",
       "    </tr>\n",
       "    <tr>\n",
       "      <th>Film-Noir</th>\n",
       "      <td>5.141836e-03</td>\n",
       "      <td>0.005815</td>\n",
       "      <td>0.009479</td>\n",
       "    </tr>\n",
       "    <tr>\n",
       "      <th>Horror</th>\n",
       "      <td>4.256508e-03</td>\n",
       "      <td>0.022311</td>\n",
       "      <td>0.048125</td>\n",
       "    </tr>\n",
       "    <tr>\n",
       "      <th>Musical</th>\n",
       "      <td>3.778787e-04</td>\n",
       "      <td>0.001708</td>\n",
       "      <td>0.016669</td>\n",
       "    </tr>\n",
       "    <tr>\n",
       "      <th>Mystery</th>\n",
       "      <td>3.415034e-03</td>\n",
       "      <td>0.004263</td>\n",
       "      <td>0.018757</td>\n",
       "    </tr>\n",
       "    <tr>\n",
       "      <th>Romance</th>\n",
       "      <td>3.893112e-02</td>\n",
       "      <td>0.028497</td>\n",
       "      <td>0.059544</td>\n",
       "    </tr>\n",
       "    <tr>\n",
       "      <th>Sci-Fi</th>\n",
       "      <td>1.515608e-01</td>\n",
       "      <td>0.160331</td>\n",
       "      <td>0.053799</td>\n",
       "    </tr>\n",
       "    <tr>\n",
       "      <th>Thriller</th>\n",
       "      <td>9.006431e-02</td>\n",
       "      <td>0.134200</td>\n",
       "      <td>0.092402</td>\n",
       "    </tr>\n",
       "    <tr>\n",
       "      <th>War</th>\n",
       "      <td>7.029757e-02</td>\n",
       "      <td>0.044459</td>\n",
       "      <td>0.027318</td>\n",
       "    </tr>\n",
       "    <tr>\n",
       "      <th>Western</th>\n",
       "      <td>2.504511e-04</td>\n",
       "      <td>0.000098</td>\n",
       "      <td>0.008918</td>\n",
       "    </tr>\n",
       "  </tbody>\n",
       "</table>\n",
       "</div>"
      ],
      "text/plain": [
       "algo                  Pop      IKNN      IALS\n",
       "genre                                        \n",
       "Action       1.756758e-01  0.216734  0.089754\n",
       "Adventure    1.106168e-01  0.110424  0.037990\n",
       "Animation    3.276874e-03  0.002879  0.017121\n",
       "Children's   6.050285e-03  0.005511  0.025301\n",
       "Comedy       1.297002e-01  0.091708  0.207355\n",
       "Crime        1.814326e-02  0.038697  0.028922\n",
       "Documentary  1.747444e-08  0.000082  0.009275\n",
       "Drama        1.613940e-01  0.108682  0.238997\n",
       "Fantasy      3.084722e-02  0.023600  0.010273\n",
       "Film-Noir    5.141836e-03  0.005815  0.009479\n",
       "Horror       4.256508e-03  0.022311  0.048125\n",
       "Musical      3.778787e-04  0.001708  0.016669\n",
       "Mystery      3.415034e-03  0.004263  0.018757\n",
       "Romance      3.893112e-02  0.028497  0.059544\n",
       "Sci-Fi       1.515608e-01  0.160331  0.053799\n",
       "Thriller     9.006431e-02  0.134200  0.092402\n",
       "War          7.029757e-02  0.044459  0.027318\n",
       "Western      2.504511e-04  0.000098  0.008918"
      ]
     },
     "execution_count": 23,
     "metadata": {},
     "output_type": "execute_result"
    }
   ],
   "source": [
    "genre_exp = genres.T @ exp_wide\n",
    "genre_exp"
   ]
  },
  {
   "cell_type": "code",
   "execution_count": 24,
   "id": "ce9cfafa",
   "metadata": {},
   "outputs": [
    {
     "data": {
      "text/html": [
       "<div>\n",
       "<style scoped>\n",
       "    .dataframe tbody tr th:only-of-type {\n",
       "        vertical-align: middle;\n",
       "    }\n",
       "\n",
       "    .dataframe tbody tr th {\n",
       "        vertical-align: top;\n",
       "    }\n",
       "\n",
       "    .dataframe thead th {\n",
       "        text-align: right;\n",
       "    }\n",
       "</style>\n",
       "<table border=\"1\" class=\"dataframe\">\n",
       "  <thead>\n",
       "    <tr style=\"text-align: right;\">\n",
       "      <th>algo</th>\n",
       "      <th>Pop</th>\n",
       "      <th>IKNN</th>\n",
       "      <th>IALS</th>\n",
       "    </tr>\n",
       "    <tr>\n",
       "      <th>genre</th>\n",
       "      <th></th>\n",
       "      <th></th>\n",
       "      <th></th>\n",
       "    </tr>\n",
       "  </thead>\n",
       "  <tbody>\n",
       "    <tr>\n",
       "      <th>Action</th>\n",
       "      <td>0.114186</td>\n",
       "      <td>0.155244</td>\n",
       "      <td>0.028264</td>\n",
       "    </tr>\n",
       "    <tr>\n",
       "      <th>Adventure</th>\n",
       "      <td>0.080722</td>\n",
       "      <td>0.080529</td>\n",
       "      <td>0.008095</td>\n",
       "    </tr>\n",
       "    <tr>\n",
       "      <th>Animation</th>\n",
       "      <td>-0.007570</td>\n",
       "      <td>-0.007967</td>\n",
       "      <td>0.006274</td>\n",
       "    </tr>\n",
       "    <tr>\n",
       "      <th>Children's</th>\n",
       "      <td>-0.021201</td>\n",
       "      <td>-0.021740</td>\n",
       "      <td>-0.001950</td>\n",
       "    </tr>\n",
       "    <tr>\n",
       "      <th>Comedy</th>\n",
       "      <td>-0.083219</td>\n",
       "      <td>-0.121211</td>\n",
       "      <td>-0.005564</td>\n",
       "    </tr>\n",
       "    <tr>\n",
       "      <th>Crime</th>\n",
       "      <td>-0.008112</td>\n",
       "      <td>0.012441</td>\n",
       "      <td>0.002666</td>\n",
       "    </tr>\n",
       "    <tr>\n",
       "      <th>Documentary</th>\n",
       "      <td>-0.031290</td>\n",
       "      <td>-0.031208</td>\n",
       "      <td>-0.022015</td>\n",
       "    </tr>\n",
       "    <tr>\n",
       "      <th>Drama</th>\n",
       "      <td>-0.144830</td>\n",
       "      <td>-0.197541</td>\n",
       "      <td>-0.067227</td>\n",
       "    </tr>\n",
       "    <tr>\n",
       "      <th>Fantasy</th>\n",
       "      <td>0.024825</td>\n",
       "      <td>0.017578</td>\n",
       "      <td>0.004251</td>\n",
       "    </tr>\n",
       "    <tr>\n",
       "      <th>Film-Noir</th>\n",
       "      <td>-0.000932</td>\n",
       "      <td>-0.000259</td>\n",
       "      <td>0.003405</td>\n",
       "    </tr>\n",
       "    <tr>\n",
       "      <th>Horror</th>\n",
       "      <td>-0.060646</td>\n",
       "      <td>-0.042591</td>\n",
       "      <td>-0.016777</td>\n",
       "    </tr>\n",
       "    <tr>\n",
       "      <th>Musical</th>\n",
       "      <td>-0.014005</td>\n",
       "      <td>-0.012675</td>\n",
       "      <td>0.002286</td>\n",
       "    </tr>\n",
       "    <tr>\n",
       "      <th>Mystery</th>\n",
       "      <td>-0.009234</td>\n",
       "      <td>-0.008386</td>\n",
       "      <td>0.006108</td>\n",
       "    </tr>\n",
       "    <tr>\n",
       "      <th>Romance</th>\n",
       "      <td>-0.020645</td>\n",
       "      <td>-0.031079</td>\n",
       "      <td>-0.000031</td>\n",
       "    </tr>\n",
       "    <tr>\n",
       "      <th>Sci-Fi</th>\n",
       "      <td>0.119082</td>\n",
       "      <td>0.127852</td>\n",
       "      <td>0.021320</td>\n",
       "    </tr>\n",
       "    <tr>\n",
       "      <th>Thriller</th>\n",
       "      <td>0.021921</td>\n",
       "      <td>0.066057</td>\n",
       "      <td>0.024258</td>\n",
       "    </tr>\n",
       "    <tr>\n",
       "      <th>War</th>\n",
       "      <td>0.052931</td>\n",
       "      <td>0.027093</td>\n",
       "      <td>0.009952</td>\n",
       "    </tr>\n",
       "    <tr>\n",
       "      <th>Western</th>\n",
       "      <td>-0.011982</td>\n",
       "      <td>-0.012135</td>\n",
       "      <td>-0.003315</td>\n",
       "    </tr>\n",
       "  </tbody>\n",
       "</table>\n",
       "</div>"
      ],
      "text/plain": [
       "algo              Pop      IKNN      IALS\n",
       "genre                                    \n",
       "Action       0.114186  0.155244  0.028264\n",
       "Adventure    0.080722  0.080529  0.008095\n",
       "Animation   -0.007570 -0.007967  0.006274\n",
       "Children's  -0.021201 -0.021740 -0.001950\n",
       "Comedy      -0.083219 -0.121211 -0.005564\n",
       "Crime       -0.008112  0.012441  0.002666\n",
       "Documentary -0.031290 -0.031208 -0.022015\n",
       "Drama       -0.144830 -0.197541 -0.067227\n",
       "Fantasy      0.024825  0.017578  0.004251\n",
       "Film-Noir   -0.000932 -0.000259  0.003405\n",
       "Horror      -0.060646 -0.042591 -0.016777\n",
       "Musical     -0.014005 -0.012675  0.002286\n",
       "Mystery     -0.009234 -0.008386  0.006108\n",
       "Romance     -0.020645 -0.031079 -0.000031\n",
       "Sci-Fi       0.119082  0.127852  0.021320\n",
       "Thriller     0.021921  0.066057  0.024258\n",
       "War          0.052931  0.027093  0.009952\n",
       "Western     -0.011982 -0.012135 -0.003315"
      ]
     },
     "execution_count": 24,
     "metadata": {},
     "output_type": "execute_result"
    }
   ],
   "source": [
    "genre_relexp = genre_exp.subtract(genre_tot['frac'], axis=0)\n",
    "genre_relexp"
   ]
  },
  {
   "cell_type": "code",
   "execution_count": 25,
   "id": "e51b1f37",
   "metadata": {},
   "outputs": [],
   "source": [
    "genre_etall = genre_exp.reset_index().melt(id_vars='genre', value_name='exposure')\n",
    "genre_rtall = genre_relexp.reset_index().melt(id_vars='genre', value_name='exposure')"
   ]
  },
  {
   "cell_type": "markdown",
   "id": "5cf38f45",
   "metadata": {},
   "source": [
    "Exposure per genre:\n"
   ]
  },
  {
   "cell_type": "code",
   "execution_count": 26,
   "id": "7e218e8b",
   "metadata": {},
   "outputs": [
    {
     "data": {
      "text/plain": [
       "<seaborn.axisgrid.FacetGrid at 0x7ff3f68ab6a0>"
      ]
     },
     "execution_count": 26,
     "metadata": {},
     "output_type": "execute_result"
    },
    {
     "data": {
      "image/png": "[encoded data removed]",
      "text/plain": [
       "<Figure size 560.25x480 with 1 Axes>"
      ]
     },
     "metadata": {
      "image/png": {
       "height": 480,
       "width": 560
      }
     },
     "output_type": "display_data"
    }
   ],
   "source": [
    "sns.catplot(genre_etall, y='genre', hue='algo', x='exposure', kind='bar')"
   ]
  },
  {
   "cell_type": "markdown",
   "id": "c6f9b61e",
   "metadata": {},
   "source": [
    "Exposure relative to total per genre:\n"
   ]
  },
  {
   "cell_type": "code",
   "execution_count": 27,
   "id": "b4454f68",
   "metadata": {},
   "outputs": [
    {
     "name": "stdout",
     "output_type": "stream",
     "text": [
      "[   INFO] matplotlib.font_manager Fontsize 0.00 < 1.0 pt not allowed by FreeType. Setting fontsize = 1 pt\n"
     ]
    },
    {
     "name": "stderr",
     "output_type": "stream",
     "text": [
      "/home/MICHAELEKSTRAND/mambaforge/envs/tors-dists/lib/python3.10/site-packages/plotnine/ggplot.py:587: PlotnineWarning: Saving 7 x 5 in image.\n",
      "/home/MICHAELEKSTRAND/mambaforge/envs/tors-dists/lib/python3.10/site-packages/plotnine/ggplot.py:588: PlotnineWarning: Filename: figures/ItemDists/genre-exp-overall.png\n"
     ]
    },
    {
     "name": "stdout",
     "output_type": "stream",
     "text": [
      "[   INFO] matplotlib.font_manager Fontsize 0.00 < 1.0 pt not allowed by FreeType. Setting fontsize = 1 pt\n"
     ]
    },
    {
     "data": {
      "image/png": "[encoded data removed]",
      "text/plain": [
       "<Figure size 640x480 with 1 Axes>"
      ]
     },
     "metadata": {
      "image/png": {
       "height": 480,
       "width": 640
      },
      "needs_background": "light"
     },
     "output_type": "display_data"
    },
    {
     "data": {
      "text/plain": [
       "<Figure Size: (640 x 480)>"
      ]
     },
     "execution_count": 27,
     "metadata": {},
     "output_type": "execute_result"
    }
   ],
   "source": [
    "make_plot(\n",
    "    genre_rtall,\n",
    "    pn.aes(x='genre', y='exposure', fill='algo'),\n",
    "    pn.geom_bar(position='dodge', stat='identity'),\n",
    "    pn.coord_flip(),\n",
    "    pn.scale_fill_brewer('qual', 'Dark2'),\n",
    "    pn.ylab('Exposure Relative to Genre Distribution'),\n",
    "    pn.xlab('Genre'),\n",
    "    file='genre-exp-overall.png',\n",
    ")"
   ]
  },
  {
   "cell_type": "markdown",
   "id": "990b910c",
   "metadata": {},
   "source": [
    "IALS is also doing the best at matching exposure visually; let's check that by computing the K-L divergence from overall:\n"
   ]
  },
  {
   "cell_type": "code",
   "execution_count": 28,
   "id": "907be9a3",
   "metadata": {},
   "outputs": [
    {
     "data": {
      "text/plain": [
       "algo\n",
       "Pop     0.513182\n",
       "IKNN    0.596517\n",
       "IALS    0.045749\n",
       "dtype: float64"
      ]
     },
     "execution_count": 28,
     "metadata": {},
     "output_type": "execute_result"
    }
   ],
   "source": [
    "genre_exp.apply(lambda x: stats.entropy(x, genre_tot['frac']))"
   ]
  },
  {
   "cell_type": "markdown",
   "id": "53f378cf",
   "metadata": {},
   "source": [
    "Yes, we confirm a good match.\n",
    "\n",
    "## Relative to Ideal\n",
    "\n",
    "In the Expected Exposure paper, the authors define a target based on system relevance.  Let's use the test data to determine those ideals, and measure closeness.\n",
    "\n",
    "Each user is supposed to have exactly 5 test items:\n"
   ]
  },
  {
   "cell_type": "code",
   "execution_count": 29,
   "id": "85bea89a",
   "metadata": {},
   "outputs": [
    {
     "data": {
      "text/plain": [
       "count    1500.0\n",
       "mean        5.0\n",
       "std         0.0\n",
       "min         5.0\n",
       "25%         5.0\n",
       "50%         5.0\n",
       "75%         5.0\n",
       "max         5.0\n",
       "dtype: float64"
      ]
     },
     "execution_count": 29,
     "metadata": {},
     "output_type": "execute_result"
    }
   ],
   "source": [
    "test.value_counts('user').describe()"
   ]
  },
  {
   "cell_type": "markdown",
   "id": "27a8fab8",
   "metadata": {},
   "source": [
    "We can go through the formula from Diaz et al. to determine the expected exposure of a test item given that each user has 5 relevant items.  We can also compute the total exposure in a list:\n"
   ]
  },
  {
   "cell_type": "code",
   "execution_count": 30,
   "id": "e84b26e0",
   "metadata": {},
   "outputs": [
    {
     "data": {
      "text/plain": [
       "4.000000000000001"
      ]
     },
     "execution_count": 30,
     "metadata": {},
     "output_type": "execute_result"
    }
   ],
   "source": [
    "ltot = discount(np.arange(1, 1001)).sum()\n",
    "ltot"
   ]
  },
  {
   "cell_type": "markdown",
   "id": "9716e1fd",
   "metadata": {},
   "source": [
    "The total for relevant items:\n"
   ]
  },
  {
   "cell_type": "code",
   "execution_count": 31,
   "id": "91c46785",
   "metadata": {},
   "outputs": [
    {
     "data": {
      "text/plain": [
       "3.3616"
      ]
     },
     "execution_count": 31,
     "metadata": {},
     "output_type": "execute_result"
    }
   ],
   "source": [
    "rtot = test_weight(5) * 5\n",
    "rtot"
   ]
  },
  {
   "cell_type": "markdown",
   "id": "c6bde605",
   "metadata": {},
   "source": [
    "So we'll allocate 3.36/4 exposure across the relevant items equally, and 0.64/4 across the irrelevant items equally.\n"
   ]
  },
  {
   "cell_type": "code",
   "execution_count": 32,
   "id": "7bd86c12",
   "metadata": {},
   "outputs": [
    {
     "data": {
      "text/plain": [
       "0.16807999999999998"
      ]
     },
     "execution_count": 32,
     "metadata": {},
     "output_type": "execute_result"
    }
   ],
   "source": [
    "ritot = rtot / 5 / ltot\n",
    "ritot"
   ]
  },
  {
   "cell_type": "code",
   "execution_count": 33,
   "id": "e4f91d1b",
   "metadata": {},
   "outputs": [
    {
     "data": {
      "text/plain": [
       "4.115523465703975e-05"
      ]
     },
     "execution_count": 33,
     "metadata": {},
     "output_type": "execute_result"
    }
   ],
   "source": [
    "nitems = len(movies)\n",
    "uitot = (ltot - rtot) / ltot / (nitems - 5)\n",
    "uitot"
   ]
  },
  {
   "cell_type": "code",
   "execution_count": 34,
   "id": "21c2c1b9",
   "metadata": {},
   "outputs": [],
   "source": [
    "nusers = test['user'].nunique()"
   ]
  },
  {
   "cell_type": "markdown",
   "id": "9c80bfc6",
   "metadata": {},
   "source": [
    "  To compute the exposure expected for each item, we will start by computing the relevant item exposure, and then we will add in the estimated irrelevant item exposure based on the total item count.\n"
   ]
  },
  {
   "cell_type": "code",
   "execution_count": 35,
   "id": "299c61d2",
   "metadata": {},
   "outputs": [
    {
     "data": {
      "text/html": [
       "<div>\n",
       "<style scoped>\n",
       "    .dataframe tbody tr th:only-of-type {\n",
       "        vertical-align: middle;\n",
       "    }\n",
       "\n",
       "    .dataframe tbody tr th {\n",
       "        vertical-align: top;\n",
       "    }\n",
       "\n",
       "    .dataframe thead th {\n",
       "        text-align: right;\n",
       "    }\n",
       "</style>\n",
       "<table border=\"1\" class=\"dataframe\">\n",
       "  <thead>\n",
       "    <tr style=\"text-align: right;\">\n",
       "      <th></th>\n",
       "      <th>count</th>\n",
       "      <th>rel</th>\n",
       "      <th>unrel</th>\n",
       "      <th>exp</th>\n",
       "    </tr>\n",
       "    <tr>\n",
       "      <th>item</th>\n",
       "      <th></th>\n",
       "      <th></th>\n",
       "      <th></th>\n",
       "      <th></th>\n",
       "    </tr>\n",
       "  </thead>\n",
       "  <tbody>\n",
       "    <tr>\n",
       "      <th>1</th>\n",
       "      <td>14.0</td>\n",
       "      <td>0.001569</td>\n",
       "      <td>0.000041</td>\n",
       "      <td>0.001610</td>\n",
       "    </tr>\n",
       "    <tr>\n",
       "      <th>2</th>\n",
       "      <td>8.0</td>\n",
       "      <td>0.000896</td>\n",
       "      <td>0.000041</td>\n",
       "      <td>0.000937</td>\n",
       "    </tr>\n",
       "    <tr>\n",
       "      <th>3</th>\n",
       "      <td>5.0</td>\n",
       "      <td>0.000560</td>\n",
       "      <td>0.000041</td>\n",
       "      <td>0.000601</td>\n",
       "    </tr>\n",
       "    <tr>\n",
       "      <th>4</th>\n",
       "      <td>0.0</td>\n",
       "      <td>0.000000</td>\n",
       "      <td>0.000041</td>\n",
       "      <td>0.000041</td>\n",
       "    </tr>\n",
       "    <tr>\n",
       "      <th>5</th>\n",
       "      <td>2.0</td>\n",
       "      <td>0.000224</td>\n",
       "      <td>0.000041</td>\n",
       "      <td>0.000265</td>\n",
       "    </tr>\n",
       "    <tr>\n",
       "      <th>...</th>\n",
       "      <td>...</td>\n",
       "      <td>...</td>\n",
       "      <td>...</td>\n",
       "      <td>...</td>\n",
       "    </tr>\n",
       "    <tr>\n",
       "      <th>3948</th>\n",
       "      <td>8.0</td>\n",
       "      <td>0.000896</td>\n",
       "      <td>0.000041</td>\n",
       "      <td>0.000937</td>\n",
       "    </tr>\n",
       "    <tr>\n",
       "      <th>3949</th>\n",
       "      <td>2.0</td>\n",
       "      <td>0.000224</td>\n",
       "      <td>0.000041</td>\n",
       "      <td>0.000265</td>\n",
       "    </tr>\n",
       "    <tr>\n",
       "      <th>3950</th>\n",
       "      <td>1.0</td>\n",
       "      <td>0.000112</td>\n",
       "      <td>0.000041</td>\n",
       "      <td>0.000153</td>\n",
       "    </tr>\n",
       "    <tr>\n",
       "      <th>3951</th>\n",
       "      <td>1.0</td>\n",
       "      <td>0.000112</td>\n",
       "      <td>0.000041</td>\n",
       "      <td>0.000153</td>\n",
       "    </tr>\n",
       "    <tr>\n",
       "      <th>3952</th>\n",
       "      <td>6.0</td>\n",
       "      <td>0.000672</td>\n",
       "      <td>0.000041</td>\n",
       "      <td>0.000713</td>\n",
       "    </tr>\n",
       "  </tbody>\n",
       "</table>\n",
       "<p>3883 rows × 4 columns</p>\n",
       "</div>"
      ],
      "text/plain": [
       "      count       rel     unrel       exp\n",
       "item                                     \n",
       "1      14.0  0.001569  0.000041  0.001610\n",
       "2       8.0  0.000896  0.000041  0.000937\n",
       "3       5.0  0.000560  0.000041  0.000601\n",
       "4       0.0  0.000000  0.000041  0.000041\n",
       "5       2.0  0.000224  0.000041  0.000265\n",
       "...     ...       ...       ...       ...\n",
       "3948    8.0  0.000896  0.000041  0.000937\n",
       "3949    2.0  0.000224  0.000041  0.000265\n",
       "3950    1.0  0.000112  0.000041  0.000153\n",
       "3951    1.0  0.000112  0.000041  0.000153\n",
       "3952    6.0  0.000672  0.000041  0.000713\n",
       "\n",
       "[3883 rows x 4 columns]"
      ]
     },
     "execution_count": 35,
     "metadata": {},
     "output_type": "execute_result"
    }
   ],
   "source": [
    "item_tgt = test.groupby('item')['user'].count().to_frame('count')\n",
    "item_tgt = item_tgt.reindex(movies.index).fillna(0)\n",
    "item_tgt['rel'] = (item_tgt['count'] * ritot) / nusers\n",
    "item_tgt['unrel'] = ((nusers - item_tgt['count']) * uitot) / nusers\n",
    "item_tgt['exp'] = item_tgt['rel'] + item_tgt['unrel']\n",
    "item_tgt"
   ]
  },
  {
   "cell_type": "code",
   "execution_count": 36,
   "id": "108fc69c",
   "metadata": {},
   "outputs": [
    {
     "data": {
      "text/plain": [
       "count    7500.0000\n",
       "rel         0.8404\n",
       "unrel       0.1596\n",
       "exp         1.0000\n",
       "dtype: float64"
      ]
     },
     "execution_count": 36,
     "metadata": {},
     "output_type": "execute_result"
    }
   ],
   "source": [
    "item_tgt.sum()"
   ]
  },
  {
   "cell_type": "markdown",
   "id": "4fd43159",
   "metadata": {},
   "source": [
    "That gives us total ideal EE of 1, which is what we would expect.\n",
    "\n",
    "Now, let's look at how this compares to the system exposure.\n"
   ]
  },
  {
   "cell_type": "code",
   "execution_count": 37,
   "id": "92397881",
   "metadata": {},
   "outputs": [
    {
     "data": {
      "text/html": [
       "<div>\n",
       "<style scoped>\n",
       "    .dataframe tbody tr th:only-of-type {\n",
       "        vertical-align: middle;\n",
       "    }\n",
       "\n",
       "    .dataframe tbody tr th {\n",
       "        vertical-align: top;\n",
       "    }\n",
       "\n",
       "    .dataframe thead th {\n",
       "        text-align: right;\n",
       "    }\n",
       "</style>\n",
       "<table border=\"1\" class=\"dataframe\">\n",
       "  <thead>\n",
       "    <tr style=\"text-align: right;\">\n",
       "      <th>algo</th>\n",
       "      <th>Pop</th>\n",
       "      <th>IKNN</th>\n",
       "      <th>IALS</th>\n",
       "    </tr>\n",
       "    <tr>\n",
       "      <th>item</th>\n",
       "      <th></th>\n",
       "      <th></th>\n",
       "      <th></th>\n",
       "    </tr>\n",
       "  </thead>\n",
       "  <tbody>\n",
       "    <tr>\n",
       "      <th>1</th>\n",
       "      <td>0.002370</td>\n",
       "      <td>0.002700</td>\n",
       "      <td>-0.000008</td>\n",
       "    </tr>\n",
       "    <tr>\n",
       "      <th>2</th>\n",
       "      <td>-0.000937</td>\n",
       "      <td>-0.000937</td>\n",
       "      <td>-0.000496</td>\n",
       "    </tr>\n",
       "    <tr>\n",
       "      <th>3</th>\n",
       "      <td>-0.000601</td>\n",
       "      <td>-0.000601</td>\n",
       "      <td>0.000448</td>\n",
       "    </tr>\n",
       "    <tr>\n",
       "      <th>4</th>\n",
       "      <td>-0.000041</td>\n",
       "      <td>-0.000041</td>\n",
       "      <td>0.000034</td>\n",
       "    </tr>\n",
       "    <tr>\n",
       "      <th>5</th>\n",
       "      <td>-0.000265</td>\n",
       "      <td>-0.000265</td>\n",
       "      <td>-0.000163</td>\n",
       "    </tr>\n",
       "    <tr>\n",
       "      <th>...</th>\n",
       "      <td>...</td>\n",
       "      <td>...</td>\n",
       "      <td>...</td>\n",
       "    </tr>\n",
       "    <tr>\n",
       "      <th>3948</th>\n",
       "      <td>-0.000937</td>\n",
       "      <td>-0.000825</td>\n",
       "      <td>0.000379</td>\n",
       "    </tr>\n",
       "    <tr>\n",
       "      <th>3949</th>\n",
       "      <td>-0.000265</td>\n",
       "      <td>-0.000199</td>\n",
       "      <td>-0.000050</td>\n",
       "    </tr>\n",
       "    <tr>\n",
       "      <th>3950</th>\n",
       "      <td>-0.000153</td>\n",
       "      <td>-0.000153</td>\n",
       "      <td>-0.000153</td>\n",
       "    </tr>\n",
       "    <tr>\n",
       "      <th>3951</th>\n",
       "      <td>-0.000153</td>\n",
       "      <td>-0.000153</td>\n",
       "      <td>-0.000153</td>\n",
       "    </tr>\n",
       "    <tr>\n",
       "      <th>3952</th>\n",
       "      <td>-0.000713</td>\n",
       "      <td>-0.000713</td>\n",
       "      <td>-0.000291</td>\n",
       "    </tr>\n",
       "  </tbody>\n",
       "</table>\n",
       "<p>3883 rows × 3 columns</p>\n",
       "</div>"
      ],
      "text/plain": [
       "algo       Pop      IKNN      IALS\n",
       "item                              \n",
       "1     0.002370  0.002700 -0.000008\n",
       "2    -0.000937 -0.000937 -0.000496\n",
       "3    -0.000601 -0.000601  0.000448\n",
       "4    -0.000041 -0.000041  0.000034\n",
       "5    -0.000265 -0.000265 -0.000163\n",
       "...        ...       ...       ...\n",
       "3948 -0.000937 -0.000825  0.000379\n",
       "3949 -0.000265 -0.000199 -0.000050\n",
       "3950 -0.000153 -0.000153 -0.000153\n",
       "3951 -0.000153 -0.000153 -0.000153\n",
       "3952 -0.000713 -0.000713 -0.000291\n",
       "\n",
       "[3883 rows x 3 columns]"
      ]
     },
     "execution_count": 37,
     "metadata": {},
     "output_type": "execute_result"
    }
   ],
   "source": [
    "diff_wide = exp_wide.subtract(item_tgt['exp'], axis=0)\n",
    "diff_wide"
   ]
  },
  {
   "cell_type": "code",
   "execution_count": 38,
   "id": "dc0753ac",
   "metadata": {},
   "outputs": [
    {
     "data": {
      "text/html": [
       "<div>\n",
       "<style scoped>\n",
       "    .dataframe tbody tr th:only-of-type {\n",
       "        vertical-align: middle;\n",
       "    }\n",
       "\n",
       "    .dataframe tbody tr th {\n",
       "        vertical-align: top;\n",
       "    }\n",
       "\n",
       "    .dataframe thead th {\n",
       "        text-align: right;\n",
       "    }\n",
       "</style>\n",
       "<table border=\"1\" class=\"dataframe\">\n",
       "  <thead>\n",
       "    <tr style=\"text-align: right;\">\n",
       "      <th>algo</th>\n",
       "      <th>Pop</th>\n",
       "      <th>IKNN</th>\n",
       "      <th>IALS</th>\n",
       "    </tr>\n",
       "  </thead>\n",
       "  <tbody>\n",
       "    <tr>\n",
       "      <th>count</th>\n",
       "      <td>3.883000e+03</td>\n",
       "      <td>3.883000e+03</td>\n",
       "      <td>3.883000e+03</td>\n",
       "    </tr>\n",
       "    <tr>\n",
       "      <th>mean</th>\n",
       "      <td>-3.431027e-19</td>\n",
       "      <td>-1.715513e-19</td>\n",
       "      <td>-1.054326e-19</td>\n",
       "    </tr>\n",
       "    <tr>\n",
       "      <th>std</th>\n",
       "      <td>3.633288e-03</td>\n",
       "      <td>2.554198e-03</td>\n",
       "      <td>2.911047e-04</td>\n",
       "    </tr>\n",
       "    <tr>\n",
       "      <th>min</th>\n",
       "      <td>-2.050436e-03</td>\n",
       "      <td>-2.428038e-03</td>\n",
       "      <td>-1.933441e-03</td>\n",
       "    </tr>\n",
       "    <tr>\n",
       "      <th>25%</th>\n",
       "      <td>-2.652070e-04</td>\n",
       "      <td>-2.652070e-04</td>\n",
       "      <td>-6.142655e-05</td>\n",
       "    </tr>\n",
       "    <tr>\n",
       "      <th>50%</th>\n",
       "      <td>-4.115523e-05</td>\n",
       "      <td>-4.115523e-05</td>\n",
       "      <td>-4.115523e-05</td>\n",
       "    </tr>\n",
       "    <tr>\n",
       "      <th>75%</th>\n",
       "      <td>-4.115523e-05</td>\n",
       "      <td>-4.115523e-05</td>\n",
       "      <td>4.953235e-05</td>\n",
       "    </tr>\n",
       "    <tr>\n",
       "      <th>max</th>\n",
       "      <td>1.089770e-01</td>\n",
       "      <td>8.296624e-02</td>\n",
       "      <td>5.830882e-03</td>\n",
       "    </tr>\n",
       "  </tbody>\n",
       "</table>\n",
       "</div>"
      ],
      "text/plain": [
       "algo            Pop          IKNN          IALS\n",
       "count  3.883000e+03  3.883000e+03  3.883000e+03\n",
       "mean  -3.431027e-19 -1.715513e-19 -1.054326e-19\n",
       "std    3.633288e-03  2.554198e-03  2.911047e-04\n",
       "min   -2.050436e-03 -2.428038e-03 -1.933441e-03\n",
       "25%   -2.652070e-04 -2.652070e-04 -6.142655e-05\n",
       "50%   -4.115523e-05 -4.115523e-05 -4.115523e-05\n",
       "75%   -4.115523e-05 -4.115523e-05  4.953235e-05\n",
       "max    1.089770e-01  8.296624e-02  5.830882e-03"
      ]
     },
     "execution_count": 38,
     "metadata": {},
     "output_type": "execute_result"
    }
   ],
   "source": [
    "diff_wide.describe()"
   ]
  },
  {
   "cell_type": "code",
   "execution_count": 39,
   "id": "48049506",
   "metadata": {},
   "outputs": [
    {
     "data": {
      "text/html": [
       "<div>\n",
       "<style scoped>\n",
       "    .dataframe tbody tr th:only-of-type {\n",
       "        vertical-align: middle;\n",
       "    }\n",
       "\n",
       "    .dataframe tbody tr th {\n",
       "        vertical-align: top;\n",
       "    }\n",
       "\n",
       "    .dataframe thead th {\n",
       "        text-align: right;\n",
       "    }\n",
       "</style>\n",
       "<table border=\"1\" class=\"dataframe\">\n",
       "  <thead>\n",
       "    <tr style=\"text-align: right;\">\n",
       "      <th></th>\n",
       "      <th>algo</th>\n",
       "      <th>value</th>\n",
       "    </tr>\n",
       "  </thead>\n",
       "  <tbody>\n",
       "    <tr>\n",
       "      <th>0</th>\n",
       "      <td>Pop</td>\n",
       "      <td>0.002370</td>\n",
       "    </tr>\n",
       "    <tr>\n",
       "      <th>1</th>\n",
       "      <td>Pop</td>\n",
       "      <td>-0.000937</td>\n",
       "    </tr>\n",
       "    <tr>\n",
       "      <th>2</th>\n",
       "      <td>Pop</td>\n",
       "      <td>-0.000601</td>\n",
       "    </tr>\n",
       "    <tr>\n",
       "      <th>3</th>\n",
       "      <td>Pop</td>\n",
       "      <td>-0.000041</td>\n",
       "    </tr>\n",
       "    <tr>\n",
       "      <th>4</th>\n",
       "      <td>Pop</td>\n",
       "      <td>-0.000265</td>\n",
       "    </tr>\n",
       "    <tr>\n",
       "      <th>...</th>\n",
       "      <td>...</td>\n",
       "      <td>...</td>\n",
       "    </tr>\n",
       "    <tr>\n",
       "      <th>11644</th>\n",
       "      <td>IALS</td>\n",
       "      <td>0.000379</td>\n",
       "    </tr>\n",
       "    <tr>\n",
       "      <th>11645</th>\n",
       "      <td>IALS</td>\n",
       "      <td>-0.000050</td>\n",
       "    </tr>\n",
       "    <tr>\n",
       "      <th>11646</th>\n",
       "      <td>IALS</td>\n",
       "      <td>-0.000153</td>\n",
       "    </tr>\n",
       "    <tr>\n",
       "      <th>11647</th>\n",
       "      <td>IALS</td>\n",
       "      <td>-0.000153</td>\n",
       "    </tr>\n",
       "    <tr>\n",
       "      <th>11648</th>\n",
       "      <td>IALS</td>\n",
       "      <td>-0.000291</td>\n",
       "    </tr>\n",
       "  </tbody>\n",
       "</table>\n",
       "<p>11649 rows × 2 columns</p>\n",
       "</div>"
      ],
      "text/plain": [
       "       algo     value\n",
       "0       Pop  0.002370\n",
       "1       Pop -0.000937\n",
       "2       Pop -0.000601\n",
       "3       Pop -0.000041\n",
       "4       Pop -0.000265\n",
       "...     ...       ...\n",
       "11644  IALS  0.000379\n",
       "11645  IALS -0.000050\n",
       "11646  IALS -0.000153\n",
       "11647  IALS -0.000153\n",
       "11648  IALS -0.000291\n",
       "\n",
       "[11649 rows x 2 columns]"
      ]
     },
     "execution_count": 39,
     "metadata": {},
     "output_type": "execute_result"
    }
   ],
   "source": [
    "diff_tall = diff_wide.melt()\n",
    "diff_tall"
   ]
  },
  {
   "cell_type": "code",
   "execution_count": 40,
   "id": "d242c292",
   "metadata": {},
   "outputs": [
    {
     "data": {
      "text/plain": [
       "<seaborn.axisgrid.FacetGrid at 0x7ff3ca93c6d0>"
      ]
     },
     "execution_count": 40,
     "metadata": {},
     "output_type": "execute_result"
    },
    {
     "data": {
      "image/png": "[encoded data removed]",
      "text/plain": [
       "<Figure size 560.25x480 with 1 Axes>"
      ]
     },
     "metadata": {
      "image/png": {
       "height": 480,
       "width": 560
      }
     },
     "output_type": "display_data"
    }
   ],
   "source": [
    "sns.displot(diff_tall, x='value', hue='algo', kind='ecdf')"
   ]
  },
  {
   "cell_type": "code",
   "execution_count": 41,
   "id": "442cb125",
   "metadata": {},
   "outputs": [
    {
     "name": "stdout",
     "output_type": "stream",
     "text": [
      "[   INFO] matplotlib.font_manager Fontsize 0.00 < 1.0 pt not allowed by FreeType. Setting fontsize = 1 pt\n"
     ]
    },
    {
     "name": "stderr",
     "output_type": "stream",
     "text": [
      "/home/MICHAELEKSTRAND/mambaforge/envs/tors-dists/lib/python3.10/site-packages/plotnine/ggplot.py:587: PlotnineWarning: Saving 7 x 5 in image.\n",
      "/home/MICHAELEKSTRAND/mambaforge/envs/tors-dists/lib/python3.10/site-packages/plotnine/ggplot.py:588: PlotnineWarning: Filename: figures/ItemDists/item-exp-ideal.png\n"
     ]
    },
    {
     "name": "stdout",
     "output_type": "stream",
     "text": [
      "[   INFO] matplotlib.font_manager Fontsize 0.00 < 1.0 pt not allowed by FreeType. Setting fontsize = 1 pt\n"
     ]
    },
    {
     "data": {
      "image/png": "[encoded data removed]",
      "text/plain": [
       "<Figure size 640x480 with 1 Axes>"
      ]
     },
     "metadata": {
      "image/png": {
       "height": 480,
       "width": 640
      },
      "needs_background": "light"
     },
     "output_type": "display_data"
    },
    {
     "data": {
      "text/plain": [
       "<Figure Size: (640 x 480)>"
      ]
     },
     "execution_count": 41,
     "metadata": {},
     "output_type": "execute_result"
    }
   ],
   "source": [
    "make_plot(\n",
    "    diff_tall,\n",
    "    pn.aes(x='value', color='algo'),\n",
    "    pn.stat_ecdf(),\n",
    "#     pn.scale_x_log10(),\n",
    "    pn.ylab('CDF'),\n",
    "    pn.xlab('Exposure Relative to Ideal'),\n",
    "    file='item-exp-ideal.png',\n",
    ")"
   ]
  },
  {
   "cell_type": "markdown",
   "id": "09594f0c",
   "metadata": {},
   "source": [
    "That's hard to read.  Let's compute the EEL L2 loss function:\n"
   ]
  },
  {
   "cell_type": "code",
   "execution_count": 42,
   "id": "ef3abce6",
   "metadata": {},
   "outputs": [
    {
     "data": {
      "text/plain": [
       "algo\n",
       "Pop     0.051245\n",
       "IKNN    0.025326\n",
       "IALS    0.000329\n",
       "dtype: float64"
      ]
     },
     "execution_count": 42,
     "metadata": {},
     "output_type": "execute_result"
    }
   ],
   "source": [
    "exp_l2 = np.square(diff_wide).sum()\n",
    "exp_l2"
   ]
  },
  {
   "cell_type": "markdown",
   "id": "91b15ab2",
   "metadata": {},
   "source": [
    "IALS has much lower EEL.  Let's also do K-L divergence for consistency:\n"
   ]
  },
  {
   "cell_type": "code",
   "execution_count": 43,
   "id": "c033c611",
   "metadata": {},
   "outputs": [
    {
     "data": {
      "text/plain": [
       "algo\n",
       "Pop     2.398029\n",
       "IKNN    1.993307\n",
       "IALS    0.424431\n",
       "dtype: float64"
      ]
     },
     "execution_count": 43,
     "metadata": {},
     "output_type": "execute_result"
    }
   ],
   "source": [
    "exp_kl = exp_wide.apply(lambda x: stats.entropy(x, item_tgt['exp']))\n",
    "exp_kl"
   ]
  },
  {
   "cell_type": "markdown",
   "id": "c8016779",
   "metadata": {},
   "source": [
    "Now we're going to make a little table that has these and the Gini coefficients.\n"
   ]
  },
  {
   "cell_type": "code",
   "execution_count": 44,
   "id": "22274331",
   "metadata": {},
   "outputs": [
    {
     "data": {
      "text/html": [
       "<div>\n",
       "<style scoped>\n",
       "    .dataframe tbody tr th:only-of-type {\n",
       "        vertical-align: middle;\n",
       "    }\n",
       "\n",
       "    .dataframe tbody tr th {\n",
       "        vertical-align: top;\n",
       "    }\n",
       "\n",
       "    .dataframe thead th {\n",
       "        text-align: right;\n",
       "    }\n",
       "</style>\n",
       "<table border=\"1\" class=\"dataframe\">\n",
       "  <thead>\n",
       "    <tr style=\"text-align: right;\">\n",
       "      <th></th>\n",
       "      <th>Gini</th>\n",
       "      <th>L2</th>\n",
       "      <th>KL</th>\n",
       "    </tr>\n",
       "    <tr>\n",
       "      <th>algo</th>\n",
       "      <th></th>\n",
       "      <th></th>\n",
       "      <th></th>\n",
       "    </tr>\n",
       "  </thead>\n",
       "  <tbody>\n",
       "    <tr>\n",
       "      <th>IALS</th>\n",
       "      <td>0.732345</td>\n",
       "      <td>0.000329</td>\n",
       "      <td>0.424431</td>\n",
       "    </tr>\n",
       "    <tr>\n",
       "      <th>IKNN</th>\n",
       "      <td>0.988025</td>\n",
       "      <td>0.025326</td>\n",
       "      <td>1.993307</td>\n",
       "    </tr>\n",
       "    <tr>\n",
       "      <th>Pop</th>\n",
       "      <td>0.995073</td>\n",
       "      <td>0.051245</td>\n",
       "      <td>2.398029</td>\n",
       "    </tr>\n",
       "  </tbody>\n",
       "</table>\n",
       "</div>"
      ],
      "text/plain": [
       "          Gini        L2        KL\n",
       "algo                              \n",
       "IALS  0.732345  0.000329  0.424431\n",
       "IKNN  0.988025  0.025326  1.993307\n",
       "Pop   0.995073  0.051245  2.398029"
      ]
     },
     "execution_count": 44,
     "metadata": {},
     "output_type": "execute_result"
    }
   ],
   "source": [
    "id_tbl = pd.DataFrame({\n",
    "    'Gini': algo_gini,\n",
    "    'L2': exp_l2,\n",
    "    'KL': exp_kl,\n",
    "})\n",
    "id_tbl"
   ]
  },
  {
   "cell_type": "code",
   "execution_count": 45,
   "id": "e86598a8",
   "metadata": {},
   "outputs": [
    {
     "name": "stderr",
     "output_type": "stream",
     "text": [
      "/tmp/ipykernel_772772/1345269710.py:2: FutureWarning: In future versions `DataFrame.to_latex` is expected to utilise the base implementation of `Styler.to_latex` for formatting and rendering. The arguments signature may therefore change. It is recommended instead to use `DataFrame.style.to_latex` which also contains additional functionality.\n"
     ]
    },
    {
     "data": {
      "text/plain": [
       "240"
      ]
     },
     "execution_count": 45,
     "metadata": {},
     "output_type": "execute_result"
    }
   ],
   "source": [
    "(fig_dir / 'item-dist-tbl.tex').write_text(\n",
    "    id_tbl.to_latex(index_names=False)\n",
    ")"
   ]
  },
  {
   "cell_type": "markdown",
   "id": "5dc28939",
   "metadata": {},
   "source": [
    "### Ideal Genre Exposure \n",
    "\n",
    "Now let's look at genres relative to targets:\n"
   ]
  },
  {
   "cell_type": "code",
   "execution_count": 46,
   "id": "fd2ab6c8",
   "metadata": {},
   "outputs": [],
   "source": [
    "gtgt = genres.T @ item_tgt['exp']"
   ]
  },
  {
   "cell_type": "code",
   "execution_count": 47,
   "id": "feed2a09",
   "metadata": {},
   "outputs": [
    {
     "data": {
      "text/html": [
       "<div>\n",
       "<style scoped>\n",
       "    .dataframe tbody tr th:only-of-type {\n",
       "        vertical-align: middle;\n",
       "    }\n",
       "\n",
       "    .dataframe tbody tr th {\n",
       "        vertical-align: top;\n",
       "    }\n",
       "\n",
       "    .dataframe thead th {\n",
       "        text-align: right;\n",
       "    }\n",
       "</style>\n",
       "<table border=\"1\" class=\"dataframe\">\n",
       "  <thead>\n",
       "    <tr style=\"text-align: right;\">\n",
       "      <th>algo</th>\n",
       "      <th>Pop</th>\n",
       "      <th>IKNN</th>\n",
       "      <th>IALS</th>\n",
       "    </tr>\n",
       "    <tr>\n",
       "      <th>genre</th>\n",
       "      <th></th>\n",
       "      <th></th>\n",
       "      <th></th>\n",
       "    </tr>\n",
       "  </thead>\n",
       "  <tbody>\n",
       "    <tr>\n",
       "      <th>Action</th>\n",
       "      <td>0.083803</td>\n",
       "      <td>0.124862</td>\n",
       "      <td>-0.002118</td>\n",
       "    </tr>\n",
       "    <tr>\n",
       "      <th>Adventure</th>\n",
       "      <td>0.069847</td>\n",
       "      <td>0.069655</td>\n",
       "      <td>-0.002779</td>\n",
       "    </tr>\n",
       "    <tr>\n",
       "      <th>Animation</th>\n",
       "      <td>-0.011769</td>\n",
       "      <td>-0.012166</td>\n",
       "      <td>0.002075</td>\n",
       "    </tr>\n",
       "    <tr>\n",
       "      <th>Children's</th>\n",
       "      <td>-0.017625</td>\n",
       "      <td>-0.018164</td>\n",
       "      <td>0.001626</td>\n",
       "    </tr>\n",
       "    <tr>\n",
       "      <th>Comedy</th>\n",
       "      <td>-0.085843</td>\n",
       "      <td>-0.123835</td>\n",
       "      <td>-0.008188</td>\n",
       "    </tr>\n",
       "    <tr>\n",
       "      <th>Crime</th>\n",
       "      <td>-0.011792</td>\n",
       "      <td>0.008761</td>\n",
       "      <td>-0.001014</td>\n",
       "    </tr>\n",
       "    <tr>\n",
       "      <th>Documentary</th>\n",
       "      <td>-0.012114</td>\n",
       "      <td>-0.012032</td>\n",
       "      <td>-0.002839</td>\n",
       "    </tr>\n",
       "    <tr>\n",
       "      <th>Drama</th>\n",
       "      <td>-0.072842</td>\n",
       "      <td>-0.125554</td>\n",
       "      <td>0.004760</td>\n",
       "    </tr>\n",
       "    <tr>\n",
       "      <th>Fantasy</th>\n",
       "      <td>0.020951</td>\n",
       "      <td>0.013704</td>\n",
       "      <td>0.000377</td>\n",
       "    </tr>\n",
       "    <tr>\n",
       "      <th>Film-Noir</th>\n",
       "      <td>-0.004128</td>\n",
       "      <td>-0.003455</td>\n",
       "      <td>0.000209</td>\n",
       "    </tr>\n",
       "    <tr>\n",
       "      <th>Horror</th>\n",
       "      <td>-0.042912</td>\n",
       "      <td>-0.024857</td>\n",
       "      <td>0.000957</td>\n",
       "    </tr>\n",
       "    <tr>\n",
       "      <th>Musical</th>\n",
       "      <td>-0.014072</td>\n",
       "      <td>-0.012741</td>\n",
       "      <td>0.002219</td>\n",
       "    </tr>\n",
       "    <tr>\n",
       "      <th>Mystery</th>\n",
       "      <td>-0.012703</td>\n",
       "      <td>-0.011855</td>\n",
       "      <td>0.002639</td>\n",
       "    </tr>\n",
       "    <tr>\n",
       "      <th>Romance</th>\n",
       "      <td>-0.022980</td>\n",
       "      <td>-0.033415</td>\n",
       "      <td>-0.002367</td>\n",
       "    </tr>\n",
       "    <tr>\n",
       "      <th>Sci-Fi</th>\n",
       "      <td>0.097312</td>\n",
       "      <td>0.106083</td>\n",
       "      <td>-0.000449</td>\n",
       "    </tr>\n",
       "    <tr>\n",
       "      <th>Thriller</th>\n",
       "      <td>0.002678</td>\n",
       "      <td>0.046813</td>\n",
       "      <td>0.005015</td>\n",
       "    </tr>\n",
       "    <tr>\n",
       "      <th>War</th>\n",
       "      <td>0.044865</td>\n",
       "      <td>0.019026</td>\n",
       "      <td>0.001885</td>\n",
       "    </tr>\n",
       "    <tr>\n",
       "      <th>Western</th>\n",
       "      <td>-0.010676</td>\n",
       "      <td>-0.010829</td>\n",
       "      <td>-0.002008</td>\n",
       "    </tr>\n",
       "  </tbody>\n",
       "</table>\n",
       "</div>"
      ],
      "text/plain": [
       "algo              Pop      IKNN      IALS\n",
       "genre                                    \n",
       "Action       0.083803  0.124862 -0.002118\n",
       "Adventure    0.069847  0.069655 -0.002779\n",
       "Animation   -0.011769 -0.012166  0.002075\n",
       "Children's  -0.017625 -0.018164  0.001626\n",
       "Comedy      -0.085843 -0.123835 -0.008188\n",
       "Crime       -0.011792  0.008761 -0.001014\n",
       "Documentary -0.012114 -0.012032 -0.002839\n",
       "Drama       -0.072842 -0.125554  0.004760\n",
       "Fantasy      0.020951  0.013704  0.000377\n",
       "Film-Noir   -0.004128 -0.003455  0.000209\n",
       "Horror      -0.042912 -0.024857  0.000957\n",
       "Musical     -0.014072 -0.012741  0.002219\n",
       "Mystery     -0.012703 -0.011855  0.002639\n",
       "Romance     -0.022980 -0.033415 -0.002367\n",
       "Sci-Fi       0.097312  0.106083 -0.000449\n",
       "Thriller     0.002678  0.046813  0.005015\n",
       "War          0.044865  0.019026  0.001885\n",
       "Western     -0.010676 -0.010829 -0.002008"
      ]
     },
     "execution_count": 47,
     "metadata": {},
     "output_type": "execute_result"
    }
   ],
   "source": [
    "genre_diff = genre_exp.subtract(gtgt, axis=0)\n",
    "genre_diff"
   ]
  },
  {
   "cell_type": "code",
   "execution_count": 48,
   "id": "5c1b5e5c",
   "metadata": {},
   "outputs": [
    {
     "data": {
      "text/html": [
       "<div>\n",
       "<style scoped>\n",
       "    .dataframe tbody tr th:only-of-type {\n",
       "        vertical-align: middle;\n",
       "    }\n",
       "\n",
       "    .dataframe tbody tr th {\n",
       "        vertical-align: top;\n",
       "    }\n",
       "\n",
       "    .dataframe thead th {\n",
       "        text-align: right;\n",
       "    }\n",
       "</style>\n",
       "<table border=\"1\" class=\"dataframe\">\n",
       "  <thead>\n",
       "    <tr style=\"text-align: right;\">\n",
       "      <th>algo</th>\n",
       "      <th>Pop</th>\n",
       "      <th>IKNN</th>\n",
       "      <th>IALS</th>\n",
       "    </tr>\n",
       "  </thead>\n",
       "  <tbody>\n",
       "    <tr>\n",
       "      <th>count</th>\n",
       "      <td>1.800000e+01</td>\n",
       "      <td>1.800000e+01</td>\n",
       "      <td>1.800000e+01</td>\n",
       "    </tr>\n",
       "    <tr>\n",
       "      <th>mean</th>\n",
       "      <td>-7.440036e-17</td>\n",
       "      <td>-4.105512e-17</td>\n",
       "      <td>-2.669547e-17</td>\n",
       "    </tr>\n",
       "    <tr>\n",
       "      <th>std</th>\n",
       "      <td>4.856790e-02</td>\n",
       "      <td>6.343227e-02</td>\n",
       "      <td>3.157419e-03</td>\n",
       "    </tr>\n",
       "    <tr>\n",
       "      <th>min</th>\n",
       "      <td>-8.584298e-02</td>\n",
       "      <td>-1.255542e-01</td>\n",
       "      <td>-8.187862e-03</td>\n",
       "    </tr>\n",
       "    <tr>\n",
       "      <th>25%</th>\n",
       "      <td>-1.673695e-02</td>\n",
       "      <td>-1.680859e-02</td>\n",
       "      <td>-2.090645e-03</td>\n",
       "    </tr>\n",
       "    <tr>\n",
       "      <th>50%</th>\n",
       "      <td>-1.178060e-02</td>\n",
       "      <td>-1.134170e-02</td>\n",
       "      <td>2.926868e-04</td>\n",
       "    </tr>\n",
       "    <tr>\n",
       "      <th>75%</th>\n",
       "      <td>1.638255e-02</td>\n",
       "      <td>1.769583e-02</td>\n",
       "      <td>2.027429e-03</td>\n",
       "    </tr>\n",
       "    <tr>\n",
       "      <th>max</th>\n",
       "      <td>9.731243e-02</td>\n",
       "      <td>1.248618e-01</td>\n",
       "      <td>5.015041e-03</td>\n",
       "    </tr>\n",
       "  </tbody>\n",
       "</table>\n",
       "</div>"
      ],
      "text/plain": [
       "algo            Pop          IKNN          IALS\n",
       "count  1.800000e+01  1.800000e+01  1.800000e+01\n",
       "mean  -7.440036e-17 -4.105512e-17 -2.669547e-17\n",
       "std    4.856790e-02  6.343227e-02  3.157419e-03\n",
       "min   -8.584298e-02 -1.255542e-01 -8.187862e-03\n",
       "25%   -1.673695e-02 -1.680859e-02 -2.090645e-03\n",
       "50%   -1.178060e-02 -1.134170e-02  2.926868e-04\n",
       "75%    1.638255e-02  1.769583e-02  2.027429e-03\n",
       "max    9.731243e-02  1.248618e-01  5.015041e-03"
      ]
     },
     "execution_count": 48,
     "metadata": {},
     "output_type": "execute_result"
    }
   ],
   "source": [
    "genre_diff.describe()"
   ]
  },
  {
   "cell_type": "code",
   "execution_count": 49,
   "id": "b77eda2f",
   "metadata": {},
   "outputs": [
    {
     "data": {
      "text/html": [
       "<div>\n",
       "<style scoped>\n",
       "    .dataframe tbody tr th:only-of-type {\n",
       "        vertical-align: middle;\n",
       "    }\n",
       "\n",
       "    .dataframe tbody tr th {\n",
       "        vertical-align: top;\n",
       "    }\n",
       "\n",
       "    .dataframe thead th {\n",
       "        text-align: right;\n",
       "    }\n",
       "</style>\n",
       "<table border=\"1\" class=\"dataframe\">\n",
       "  <thead>\n",
       "    <tr style=\"text-align: right;\">\n",
       "      <th></th>\n",
       "      <th>genre</th>\n",
       "      <th>algo</th>\n",
       "      <th>value</th>\n",
       "    </tr>\n",
       "  </thead>\n",
       "  <tbody>\n",
       "    <tr>\n",
       "      <th>0</th>\n",
       "      <td>Action</td>\n",
       "      <td>Pop</td>\n",
       "      <td>0.083803</td>\n",
       "    </tr>\n",
       "    <tr>\n",
       "      <th>1</th>\n",
       "      <td>Adventure</td>\n",
       "      <td>Pop</td>\n",
       "      <td>0.069847</td>\n",
       "    </tr>\n",
       "    <tr>\n",
       "      <th>2</th>\n",
       "      <td>Animation</td>\n",
       "      <td>Pop</td>\n",
       "      <td>-0.011769</td>\n",
       "    </tr>\n",
       "    <tr>\n",
       "      <th>3</th>\n",
       "      <td>Children's</td>\n",
       "      <td>Pop</td>\n",
       "      <td>-0.017625</td>\n",
       "    </tr>\n",
       "    <tr>\n",
       "      <th>4</th>\n",
       "      <td>Comedy</td>\n",
       "      <td>Pop</td>\n",
       "      <td>-0.085843</td>\n",
       "    </tr>\n",
       "    <tr>\n",
       "      <th>5</th>\n",
       "      <td>Crime</td>\n",
       "      <td>Pop</td>\n",
       "      <td>-0.011792</td>\n",
       "    </tr>\n",
       "    <tr>\n",
       "      <th>6</th>\n",
       "      <td>Documentary</td>\n",
       "      <td>Pop</td>\n",
       "      <td>-0.012114</td>\n",
       "    </tr>\n",
       "    <tr>\n",
       "      <th>7</th>\n",
       "      <td>Drama</td>\n",
       "      <td>Pop</td>\n",
       "      <td>-0.072842</td>\n",
       "    </tr>\n",
       "    <tr>\n",
       "      <th>8</th>\n",
       "      <td>Fantasy</td>\n",
       "      <td>Pop</td>\n",
       "      <td>0.020951</td>\n",
       "    </tr>\n",
       "    <tr>\n",
       "      <th>9</th>\n",
       "      <td>Film-Noir</td>\n",
       "      <td>Pop</td>\n",
       "      <td>-0.004128</td>\n",
       "    </tr>\n",
       "    <tr>\n",
       "      <th>10</th>\n",
       "      <td>Horror</td>\n",
       "      <td>Pop</td>\n",
       "      <td>-0.042912</td>\n",
       "    </tr>\n",
       "    <tr>\n",
       "      <th>11</th>\n",
       "      <td>Musical</td>\n",
       "      <td>Pop</td>\n",
       "      <td>-0.014072</td>\n",
       "    </tr>\n",
       "    <tr>\n",
       "      <th>12</th>\n",
       "      <td>Mystery</td>\n",
       "      <td>Pop</td>\n",
       "      <td>-0.012703</td>\n",
       "    </tr>\n",
       "    <tr>\n",
       "      <th>13</th>\n",
       "      <td>Romance</td>\n",
       "      <td>Pop</td>\n",
       "      <td>-0.022980</td>\n",
       "    </tr>\n",
       "    <tr>\n",
       "      <th>14</th>\n",
       "      <td>Sci-Fi</td>\n",
       "      <td>Pop</td>\n",
       "      <td>0.097312</td>\n",
       "    </tr>\n",
       "    <tr>\n",
       "      <th>15</th>\n",
       "      <td>Thriller</td>\n",
       "      <td>Pop</td>\n",
       "      <td>0.002678</td>\n",
       "    </tr>\n",
       "    <tr>\n",
       "      <th>16</th>\n",
       "      <td>War</td>\n",
       "      <td>Pop</td>\n",
       "      <td>0.044865</td>\n",
       "    </tr>\n",
       "    <tr>\n",
       "      <th>17</th>\n",
       "      <td>Western</td>\n",
       "      <td>Pop</td>\n",
       "      <td>-0.010676</td>\n",
       "    </tr>\n",
       "    <tr>\n",
       "      <th>18</th>\n",
       "      <td>Action</td>\n",
       "      <td>IKNN</td>\n",
       "      <td>0.124862</td>\n",
       "    </tr>\n",
       "    <tr>\n",
       "      <th>19</th>\n",
       "      <td>Adventure</td>\n",
       "      <td>IKNN</td>\n",
       "      <td>0.069655</td>\n",
       "    </tr>\n",
       "    <tr>\n",
       "      <th>20</th>\n",
       "      <td>Animation</td>\n",
       "      <td>IKNN</td>\n",
       "      <td>-0.012166</td>\n",
       "    </tr>\n",
       "    <tr>\n",
       "      <th>21</th>\n",
       "      <td>Children's</td>\n",
       "      <td>IKNN</td>\n",
       "      <td>-0.018164</td>\n",
       "    </tr>\n",
       "    <tr>\n",
       "      <th>22</th>\n",
       "      <td>Comedy</td>\n",
       "      <td>IKNN</td>\n",
       "      <td>-0.123835</td>\n",
       "    </tr>\n",
       "    <tr>\n",
       "      <th>23</th>\n",
       "      <td>Crime</td>\n",
       "      <td>IKNN</td>\n",
       "      <td>0.008761</td>\n",
       "    </tr>\n",
       "    <tr>\n",
       "      <th>24</th>\n",
       "      <td>Documentary</td>\n",
       "      <td>IKNN</td>\n",
       "      <td>-0.012032</td>\n",
       "    </tr>\n",
       "    <tr>\n",
       "      <th>25</th>\n",
       "      <td>Drama</td>\n",
       "      <td>IKNN</td>\n",
       "      <td>-0.125554</td>\n",
       "    </tr>\n",
       "    <tr>\n",
       "      <th>26</th>\n",
       "      <td>Fantasy</td>\n",
       "      <td>IKNN</td>\n",
       "      <td>0.013704</td>\n",
       "    </tr>\n",
       "    <tr>\n",
       "      <th>27</th>\n",
       "      <td>Film-Noir</td>\n",
       "      <td>IKNN</td>\n",
       "      <td>-0.003455</td>\n",
       "    </tr>\n",
       "    <tr>\n",
       "      <th>28</th>\n",
       "      <td>Horror</td>\n",
       "      <td>IKNN</td>\n",
       "      <td>-0.024857</td>\n",
       "    </tr>\n",
       "    <tr>\n",
       "      <th>29</th>\n",
       "      <td>Musical</td>\n",
       "      <td>IKNN</td>\n",
       "      <td>-0.012741</td>\n",
       "    </tr>\n",
       "    <tr>\n",
       "      <th>30</th>\n",
       "      <td>Mystery</td>\n",
       "      <td>IKNN</td>\n",
       "      <td>-0.011855</td>\n",
       "    </tr>\n",
       "    <tr>\n",
       "      <th>31</th>\n",
       "      <td>Romance</td>\n",
       "      <td>IKNN</td>\n",
       "      <td>-0.033415</td>\n",
       "    </tr>\n",
       "    <tr>\n",
       "      <th>32</th>\n",
       "      <td>Sci-Fi</td>\n",
       "      <td>IKNN</td>\n",
       "      <td>0.106083</td>\n",
       "    </tr>\n",
       "    <tr>\n",
       "      <th>33</th>\n",
       "      <td>Thriller</td>\n",
       "      <td>IKNN</td>\n",
       "      <td>0.046813</td>\n",
       "    </tr>\n",
       "    <tr>\n",
       "      <th>34</th>\n",
       "      <td>War</td>\n",
       "      <td>IKNN</td>\n",
       "      <td>0.019026</td>\n",
       "    </tr>\n",
       "    <tr>\n",
       "      <th>35</th>\n",
       "      <td>Western</td>\n",
       "      <td>IKNN</td>\n",
       "      <td>-0.010829</td>\n",
       "    </tr>\n",
       "    <tr>\n",
       "      <th>36</th>\n",
       "      <td>Action</td>\n",
       "      <td>IALS</td>\n",
       "      <td>-0.002118</td>\n",
       "    </tr>\n",
       "    <tr>\n",
       "      <th>37</th>\n",
       "      <td>Adventure</td>\n",
       "      <td>IALS</td>\n",
       "      <td>-0.002779</td>\n",
       "    </tr>\n",
       "    <tr>\n",
       "      <th>38</th>\n",
       "      <td>Animation</td>\n",
       "      <td>IALS</td>\n",
       "      <td>0.002075</td>\n",
       "    </tr>\n",
       "    <tr>\n",
       "      <th>39</th>\n",
       "      <td>Children's</td>\n",
       "      <td>IALS</td>\n",
       "      <td>0.001626</td>\n",
       "    </tr>\n",
       "    <tr>\n",
       "      <th>40</th>\n",
       "      <td>Comedy</td>\n",
       "      <td>IALS</td>\n",
       "      <td>-0.008188</td>\n",
       "    </tr>\n",
       "    <tr>\n",
       "      <th>41</th>\n",
       "      <td>Crime</td>\n",
       "      <td>IALS</td>\n",
       "      <td>-0.001014</td>\n",
       "    </tr>\n",
       "    <tr>\n",
       "      <th>42</th>\n",
       "      <td>Documentary</td>\n",
       "      <td>IALS</td>\n",
       "      <td>-0.002839</td>\n",
       "    </tr>\n",
       "    <tr>\n",
       "      <th>43</th>\n",
       "      <td>Drama</td>\n",
       "      <td>IALS</td>\n",
       "      <td>0.004760</td>\n",
       "    </tr>\n",
       "    <tr>\n",
       "      <th>44</th>\n",
       "      <td>Fantasy</td>\n",
       "      <td>IALS</td>\n",
       "      <td>0.000377</td>\n",
       "    </tr>\n",
       "    <tr>\n",
       "      <th>45</th>\n",
       "      <td>Film-Noir</td>\n",
       "      <td>IALS</td>\n",
       "      <td>0.000209</td>\n",
       "    </tr>\n",
       "    <tr>\n",
       "      <th>46</th>\n",
       "      <td>Horror</td>\n",
       "      <td>IALS</td>\n",
       "      <td>0.000957</td>\n",
       "    </tr>\n",
       "    <tr>\n",
       "      <th>47</th>\n",
       "      <td>Musical</td>\n",
       "      <td>IALS</td>\n",
       "      <td>0.002219</td>\n",
       "    </tr>\n",
       "    <tr>\n",
       "      <th>48</th>\n",
       "      <td>Mystery</td>\n",
       "      <td>IALS</td>\n",
       "      <td>0.002639</td>\n",
       "    </tr>\n",
       "    <tr>\n",
       "      <th>49</th>\n",
       "      <td>Romance</td>\n",
       "      <td>IALS</td>\n",
       "      <td>-0.002367</td>\n",
       "    </tr>\n",
       "    <tr>\n",
       "      <th>50</th>\n",
       "      <td>Sci-Fi</td>\n",
       "      <td>IALS</td>\n",
       "      <td>-0.000449</td>\n",
       "    </tr>\n",
       "    <tr>\n",
       "      <th>51</th>\n",
       "      <td>Thriller</td>\n",
       "      <td>IALS</td>\n",
       "      <td>0.005015</td>\n",
       "    </tr>\n",
       "    <tr>\n",
       "      <th>52</th>\n",
       "      <td>War</td>\n",
       "      <td>IALS</td>\n",
       "      <td>0.001885</td>\n",
       "    </tr>\n",
       "    <tr>\n",
       "      <th>53</th>\n",
       "      <td>Western</td>\n",
       "      <td>IALS</td>\n",
       "      <td>-0.002008</td>\n",
       "    </tr>\n",
       "  </tbody>\n",
       "</table>\n",
       "</div>"
      ],
      "text/plain": [
       "          genre  algo     value\n",
       "0        Action   Pop  0.083803\n",
       "1     Adventure   Pop  0.069847\n",
       "2     Animation   Pop -0.011769\n",
       "3    Children's   Pop -0.017625\n",
       "4        Comedy   Pop -0.085843\n",
       "5         Crime   Pop -0.011792\n",
       "6   Documentary   Pop -0.012114\n",
       "7         Drama   Pop -0.072842\n",
       "8       Fantasy   Pop  0.020951\n",
       "9     Film-Noir   Pop -0.004128\n",
       "10       Horror   Pop -0.042912\n",
       "11      Musical   Pop -0.014072\n",
       "12      Mystery   Pop -0.012703\n",
       "13      Romance   Pop -0.022980\n",
       "14       Sci-Fi   Pop  0.097312\n",
       "15     Thriller   Pop  0.002678\n",
       "16          War   Pop  0.044865\n",
       "17      Western   Pop -0.010676\n",
       "18       Action  IKNN  0.124862\n",
       "19    Adventure  IKNN  0.069655\n",
       "20    Animation  IKNN -0.012166\n",
       "21   Children's  IKNN -0.018164\n",
       "22       Comedy  IKNN -0.123835\n",
       "23        Crime  IKNN  0.008761\n",
       "24  Documentary  IKNN -0.012032\n",
       "25        Drama  IKNN -0.125554\n",
       "26      Fantasy  IKNN  0.013704\n",
       "27    Film-Noir  IKNN -0.003455\n",
       "28       Horror  IKNN -0.024857\n",
       "29      Musical  IKNN -0.012741\n",
       "30      Mystery  IKNN -0.011855\n",
       "31      Romance  IKNN -0.033415\n",
       "32       Sci-Fi  IKNN  0.106083\n",
       "33     Thriller  IKNN  0.046813\n",
       "34          War  IKNN  0.019026\n",
       "35      Western  IKNN -0.010829\n",
       "36       Action  IALS -0.002118\n",
       "37    Adventure  IALS -0.002779\n",
       "38    Animation  IALS  0.002075\n",
       "39   Children's  IALS  0.001626\n",
       "40       Comedy  IALS -0.008188\n",
       "41        Crime  IALS -0.001014\n",
       "42  Documentary  IALS -0.002839\n",
       "43        Drama  IALS  0.004760\n",
       "44      Fantasy  IALS  0.000377\n",
       "45    Film-Noir  IALS  0.000209\n",
       "46       Horror  IALS  0.000957\n",
       "47      Musical  IALS  0.002219\n",
       "48      Mystery  IALS  0.002639\n",
       "49      Romance  IALS -0.002367\n",
       "50       Sci-Fi  IALS -0.000449\n",
       "51     Thriller  IALS  0.005015\n",
       "52          War  IALS  0.001885\n",
       "53      Western  IALS -0.002008"
      ]
     },
     "execution_count": 49,
     "metadata": {},
     "output_type": "execute_result"
    }
   ],
   "source": [
    "genre_dtall = genre_diff.reset_index().melt(id_vars='genre')\n",
    "genre_dtall"
   ]
  },
  {
   "cell_type": "code",
   "execution_count": 50,
   "id": "a535bdc9",
   "metadata": {},
   "outputs": [
    {
     "name": "stdout",
     "output_type": "stream",
     "text": [
      "[   INFO] matplotlib.font_manager Fontsize 0.00 < 1.0 pt not allowed by FreeType. Setting fontsize = 1 pt\n"
     ]
    },
    {
     "name": "stderr",
     "output_type": "stream",
     "text": [
      "/home/MICHAELEKSTRAND/mambaforge/envs/tors-dists/lib/python3.10/site-packages/plotnine/ggplot.py:587: PlotnineWarning: Saving 7 x 5 in image.\n",
      "/home/MICHAELEKSTRAND/mambaforge/envs/tors-dists/lib/python3.10/site-packages/plotnine/ggplot.py:588: PlotnineWarning: Filename: figures/ItemDists/genre-exp-ideal.png\n"
     ]
    },
    {
     "name": "stdout",
     "output_type": "stream",
     "text": [
      "[   INFO] matplotlib.font_manager Fontsize 0.00 < 1.0 pt not allowed by FreeType. Setting fontsize = 1 pt\n"
     ]
    },
    {
     "data": {
      "image/png": "[encoded data removed]",
      "text/plain": [
       "<Figure size 640x480 with 1 Axes>"
      ]
     },
     "metadata": {
      "image/png": {
       "height": 480,
       "width": 640
      },
      "needs_background": "light"
     },
     "output_type": "display_data"
    },
    {
     "data": {
      "text/plain": [
       "<Figure Size: (640 x 480)>"
      ]
     },
     "execution_count": 50,
     "metadata": {},
     "output_type": "execute_result"
    }
   ],
   "source": [
    "make_plot(\n",
    "    genre_dtall,\n",
    "    pn.aes(x='genre', y='value', fill='algo'),\n",
    "    pn.geom_bar(position='dodge', stat='identity'),\n",
    "    pn.coord_flip(),\n",
    "    pn.scale_fill_brewer('qual', 'Dark2'),\n",
    "    pn.ylab('Exposure Relative to Ideal'),\n",
    "    pn.xlab('Genre'),\n",
    "    file='genre-exp-ideal.png',\n",
    ")"
   ]
  },
  {
   "cell_type": "markdown",
   "id": "29b16487",
   "metadata": {},
   "source": [
    "What's the genre-based L2 diffs?\n"
   ]
  },
  {
   "cell_type": "code",
   "execution_count": 51,
   "id": "7da6b96a",
   "metadata": {},
   "outputs": [
    {
     "data": {
      "text/plain": [
       "algo\n",
       "Pop     0.040100\n",
       "IKNN    0.068402\n",
       "IALS    0.000169\n",
       "dtype: float64"
      ]
     },
     "execution_count": 51,
     "metadata": {},
     "output_type": "execute_result"
    }
   ],
   "source": [
    "np.square(genre_diff).sum()"
   ]
  },
  {
   "cell_type": "markdown",
   "id": "82a2b8ca",
   "metadata": {},
   "source": [
    "And the genre-based K-L:\n"
   ]
  },
  {
   "cell_type": "code",
   "execution_count": 52,
   "id": "caaa682d",
   "metadata": {},
   "outputs": [
    {
     "data": {
      "text/plain": [
       "algo\n",
       "Pop     0.301985\n",
       "IKNN    0.356300\n",
       "IALS    0.001739\n",
       "dtype: float64"
      ]
     },
     "execution_count": 52,
     "metadata": {},
     "output_type": "execute_result"
    }
   ],
   "source": [
    "genre_exp.apply(lambda x: stats.entropy(x, gtgt))"
   ]
  },
  {
   "cell_type": "markdown",
   "id": "d59aae31",
   "metadata": {},
   "source": [
    "Good across the board."
   ]
  }
 ],
 "metadata": {
  "jupytext": {
   "formats": "ipynb,qmd:quarto",
   "text_representation": {
    "extension": ".qmd",
    "format_name": "quarto",
    "format_version": "1.0",
    "jupytext_version": "1.14.6"
   }
  },
  "kernelspec": {
   "display_name": "Python 3 (ipykernel)",
   "language": "python",
   "name": "python3"
  },
  "language_info": {
   "codemirror_mode": {
    "name": "ipython",
    "version": 3
   },
   "file_extension": ".py",
   "mimetype": "text/x-python",
   "name": "python",
   "nbconvert_exporter": "python",
   "pygments_lexer": "ipython3",
   "version": "3.10.11"
  }
 },
 "nbformat": 4,
 "nbformat_minor": 5
}
